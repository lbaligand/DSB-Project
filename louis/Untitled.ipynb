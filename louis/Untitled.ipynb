{
 "cells": [
  {
   "cell_type": "code",
   "execution_count": 2,
   "metadata": {
    "collapsed": false
   },
   "outputs": [],
   "source": [
    "import json\n",
    "\n",
    "data = []\n",
    "with open('amazon_step1.json') as f:\n",
    "    for line in f:\n",
    "        data.append(json.loads(line))"
   ]
  },
  {
   "cell_type": "code",
   "execution_count": 9,
   "metadata": {
    "collapsed": false
   },
   "outputs": [
    {
     "name": "stdout",
     "output_type": "stream",
     "text": [
      "96000\n",
      "{'unixReviewTime': 1388880000, 'asin': 'B000J4HXUC', 'reviewTime': '01 5, 2014', 'overall': 5.0, 'summary': 'Clean and Exactly as Advertised', 'reviewText': \"It's a .50 Caliber Ammo Can. That largely sums it up. You're getting what you paid for. But, the great thing here is not whether or not you receive an ammo can when you order it. No, the great thing here is that you receive an ammo can in great condition. I've purchased quite a lot of milsurp in my time. Some of it arrives in absolutely horrific condition. Most of it arrives in decent condition, but desperately in need of some tender loving care. These cans arrived perfectly clean and fully functional. I couldn't be happier.\", 'reviewerID': 'A3QRW0UJPKIAX7', 'helpful': [1, 1], 'reviewerName': 'Grant Fritchey', 'category': 'Sports_and_Outdoors'}\n"
     ]
    }
   ],
   "source": [
    "print(len(data))\n",
    "print(data[0])"
   ]
  },
  {
   "cell_type": "code",
   "execution_count": null,
   "metadata": {
    "collapsed": true
   },
   "outputs": [],
   "source": []
  }
 ],
 "metadata": {
  "kernelspec": {
   "display_name": "Python [Root]",
   "language": "python",
   "name": "Python [Root]"
  },
  "language_info": {
   "codemirror_mode": {
    "name": "ipython",
    "version": 3
   },
   "file_extension": ".py",
   "mimetype": "text/x-python",
   "name": "python",
   "nbconvert_exporter": "python",
   "pygments_lexer": "ipython3",
   "version": "3.5.2"
  }
 },
 "nbformat": 4,
 "nbformat_minor": 0
}
