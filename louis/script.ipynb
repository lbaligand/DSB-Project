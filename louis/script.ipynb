{
 "cells": [
  {
   "cell_type": "markdown",
   "metadata": {},
   "source": [
    "# Project Baudet Baligand\n",
    "\n",
    "## Project Overview\n",
    "TODO:Intro, problem statement, metrics ( I would choose Area under roc curve)\n",
    "\n",
    "## Data Exploration"
   ]
  },
  {
   "cell_type": "code",
   "execution_count": 2,
   "metadata": {
    "collapsed": false
   },
   "outputs": [],
   "source": [
    "# Useful modules, make sure you can import them before proceeding further\n",
    "import matplotlib.pyplot as plt\n",
    "%matplotlib inline\n",
    "import numpy as np\n",
    "import pandas as pd\n",
    "import json\n",
    "import string\n",
    "import os\n",
    "from sklearn import dummy\n",
    "import seaborn as sbn\n",
    "from pandas.io.json import json_normalize\n",
    "from sklearn.model_selection import GridSearchCV\n",
    "from sklearn import svm\n",
    "from sklearn.preprocessing import Normalizer\n",
    "from sklearn import preprocessing, neighbors\n",
    "from sklearn.metrics import accuracy_score\n",
    "\n",
    "# Random seed to make results reducible\n",
    "SEED = 1"
   ]
  },
  {
   "cell_type": "markdown",
   "metadata": {},
   "source": [
    "We need to extract the data, and convert the data given in \"json\" to a dataframe in order to perform our analysis"
   ]
  },
  {
   "cell_type": "code",
   "execution_count": 3,
   "metadata": {
    "collapsed": false
   },
   "outputs": [],
   "source": [
    "my_list = []\n",
    "with open('amazon_step1.json') as f:\n",
    "    for line in f:\n",
    "        my_list.append(json.loads(line))\n",
    "\n",
    "df = json_normalize(my_list)"
   ]
  },
  {
   "cell_type": "code",
   "execution_count": 4,
   "metadata": {
    "collapsed": true
   },
   "outputs": [],
   "source": [
    "df = df.iloc[:5000]"
   ]
  },
  {
   "cell_type": "code",
   "execution_count": 5,
   "metadata": {
    "collapsed": false,
    "scrolled": true
   },
   "outputs": [
    {
     "data": {
      "text/html": [
       "<div>\n",
       "<table border=\"1\" class=\"dataframe\">\n",
       "  <thead>\n",
       "    <tr style=\"text-align: right;\">\n",
       "      <th></th>\n",
       "      <th>asin</th>\n",
       "      <th>category</th>\n",
       "      <th>helpful</th>\n",
       "      <th>overall</th>\n",
       "      <th>reviewText</th>\n",
       "      <th>reviewTime</th>\n",
       "      <th>reviewerID</th>\n",
       "      <th>reviewerName</th>\n",
       "      <th>summary</th>\n",
       "      <th>unixReviewTime</th>\n",
       "    </tr>\n",
       "  </thead>\n",
       "  <tbody>\n",
       "    <tr>\n",
       "      <th>0</th>\n",
       "      <td>B000J4HXUC</td>\n",
       "      <td>Sports_and_Outdoors</td>\n",
       "      <td>[1, 1]</td>\n",
       "      <td>5.0</td>\n",
       "      <td>It's a .50 Caliber Ammo Can. That largely sums...</td>\n",
       "      <td>01 5, 2014</td>\n",
       "      <td>A3QRW0UJPKIAX7</td>\n",
       "      <td>Grant Fritchey</td>\n",
       "      <td>Clean and Exactly as Advertised</td>\n",
       "      <td>1388880000</td>\n",
       "    </tr>\n",
       "  </tbody>\n",
       "</table>\n",
       "</div>"
      ],
      "text/plain": [
       "         asin             category helpful  overall  \\\n",
       "0  B000J4HXUC  Sports_and_Outdoors  [1, 1]      5.0   \n",
       "\n",
       "                                          reviewText  reviewTime  \\\n",
       "0  It's a .50 Caliber Ammo Can. That largely sums...  01 5, 2014   \n",
       "\n",
       "       reviewerID    reviewerName                          summary  \\\n",
       "0  A3QRW0UJPKIAX7  Grant Fritchey  Clean and Exactly as Advertised   \n",
       "\n",
       "   unixReviewTime  \n",
       "0      1388880000  "
      ]
     },
     "execution_count": 5,
     "metadata": {},
     "output_type": "execute_result"
    }
   ],
   "source": [
    "df.head(1)"
   ]
  },
  {
   "cell_type": "code",
   "execution_count": 5,
   "metadata": {
    "collapsed": false
   },
   "outputs": [
    {
     "name": "stdout",
     "output_type": "stream",
     "text": [
      "asin               0\n",
      "category           0\n",
      "helpful            0\n",
      "overall            0\n",
      "reviewText         0\n",
      "reviewTime         0\n",
      "reviewerID         0\n",
      "reviewerName      47\n",
      "summary            0\n",
      "unixReviewTime     0\n",
      "dtype: int64\n"
     ]
    }
   ],
   "source": [
    "#Check if we have any null values\n",
    "print (df.isnull().sum())"
   ]
  },
  {
   "cell_type": "code",
   "execution_count": 6,
   "metadata": {
    "collapsed": false
   },
   "outputs": [
    {
     "data": {
      "text/html": [
       "<div>\n",
       "<table border=\"1\" class=\"dataframe\">\n",
       "  <thead>\n",
       "    <tr style=\"text-align: right;\">\n",
       "      <th></th>\n",
       "      <th>overall</th>\n",
       "      <th>unixReviewTime</th>\n",
       "    </tr>\n",
       "  </thead>\n",
       "  <tbody>\n",
       "    <tr>\n",
       "      <th>count</th>\n",
       "      <td>5000.000000</td>\n",
       "      <td>5.000000e+03</td>\n",
       "    </tr>\n",
       "    <tr>\n",
       "      <th>mean</th>\n",
       "      <td>4.285400</td>\n",
       "      <td>1.332490e+09</td>\n",
       "    </tr>\n",
       "    <tr>\n",
       "      <th>std</th>\n",
       "      <td>1.107336</td>\n",
       "      <td>9.227891e+07</td>\n",
       "    </tr>\n",
       "    <tr>\n",
       "      <th>min</th>\n",
       "      <td>1.000000</td>\n",
       "      <td>8.946720e+08</td>\n",
       "    </tr>\n",
       "    <tr>\n",
       "      <th>25%</th>\n",
       "      <td>4.000000</td>\n",
       "      <td>1.321466e+09</td>\n",
       "    </tr>\n",
       "    <tr>\n",
       "      <th>50%</th>\n",
       "      <td>5.000000</td>\n",
       "      <td>1.366157e+09</td>\n",
       "    </tr>\n",
       "    <tr>\n",
       "      <th>75%</th>\n",
       "      <td>5.000000</td>\n",
       "      <td>1.388275e+09</td>\n",
       "    </tr>\n",
       "    <tr>\n",
       "      <th>max</th>\n",
       "      <td>5.000000</td>\n",
       "      <td>1.405987e+09</td>\n",
       "    </tr>\n",
       "  </tbody>\n",
       "</table>\n",
       "</div>"
      ],
      "text/plain": [
       "           overall  unixReviewTime\n",
       "count  5000.000000    5.000000e+03\n",
       "mean      4.285400    1.332490e+09\n",
       "std       1.107336    9.227891e+07\n",
       "min       1.000000    8.946720e+08\n",
       "25%       4.000000    1.321466e+09\n",
       "50%       5.000000    1.366157e+09\n",
       "75%       5.000000    1.388275e+09\n",
       "max       5.000000    1.405987e+09"
      ]
     },
     "execution_count": 6,
     "metadata": {},
     "output_type": "execute_result"
    }
   ],
   "source": [
    "df.describe()"
   ]
  },
  {
   "cell_type": "code",
   "execution_count": 7,
   "metadata": {
    "collapsed": false
   },
   "outputs": [
    {
     "data": {
      "text/plain": [
       "5000"
      ]
     },
     "execution_count": 7,
     "metadata": {},
     "output_type": "execute_result"
    },
    {
     "name": "stderr",
     "output_type": "stream",
     "text": [
      "/home/louis_baligand/anaconda3/lib/python3.6/site-packages/matplotlib/font_manager.py:1297: UserWarning: findfont: Font family ['sans-serif'] not found. Falling back to DejaVu Sans\n",
      "  (prop.get_family(), self.defaultFamily[fontext]))\n"
     ]
    },
    {
     "data": {
      "image/png": "[encoded data removed]",
      "text/plain": [
       "<matplotlib.figure.Figure at 0x7f280a136940>"
      ]
     },
     "metadata": {},
     "output_type": "display_data"
    }
   ],
   "source": [
    "# histogram of categories\n",
    "fig, ax = plt.subplots()\n",
    "df['category'].value_counts().plot(ax=ax, kind='bar')\n",
    "df['category'].value_counts().sum()"
   ]
  },
  {
   "cell_type": "code",
   "execution_count": 8,
   "metadata": {
    "collapsed": false,
    "scrolled": true
   },
   "outputs": [
    {
     "name": "stderr",
     "output_type": "stream",
     "text": [
      "/home/louis_baligand/anaconda3/lib/python3.6/site-packages/matplotlib/font_manager.py:1297: UserWarning: findfont: Font family ['sans-serif'] not found. Falling back to DejaVu Sans\n",
      "  (prop.get_family(), self.defaultFamily[fontext]))\n"
     ]
    },
    {
     "data": {
      "text/plain": [
       "<seaborn.axisgrid.PairGrid at 0x7f280a1365c0>"
      ]
     },
     "execution_count": 8,
     "metadata": {},
     "output_type": "execute_result"
    },
    {
     "data": {
      "image/png": "[encoded data removed]",
      "text/plain": [
       "<matplotlib.figure.Figure at 0x7f280a136198>"
      ]
     },
     "metadata": {},
     "output_type": "display_data"
    }
   ],
   "source": [
    "# visualize distribution of features and pairwise relationship using seaborn pairplot\n",
    "sbn.pairplot(df)"
   ]
  },
  {
   "cell_type": "code",
   "execution_count": 9,
   "metadata": {
    "collapsed": false
   },
   "outputs": [
    {
     "data": {
      "text/html": [
       "<div>\n",
       "<table border=\"1\" class=\"dataframe\">\n",
       "  <thead>\n",
       "    <tr style=\"text-align: right;\">\n",
       "      <th></th>\n",
       "      <th>overall</th>\n",
       "      <th>unixReviewTime</th>\n",
       "    </tr>\n",
       "  </thead>\n",
       "  <tbody>\n",
       "    <tr>\n",
       "      <th>overall</th>\n",
       "      <td>1.000000</td>\n",
       "      <td>0.031152</td>\n",
       "    </tr>\n",
       "    <tr>\n",
       "      <th>unixReviewTime</th>\n",
       "      <td>0.031152</td>\n",
       "      <td>1.000000</td>\n",
       "    </tr>\n",
       "  </tbody>\n",
       "</table>\n",
       "</div>"
      ],
      "text/plain": [
       "                 overall  unixReviewTime\n",
       "overall         1.000000        0.031152\n",
       "unixReviewTime  0.031152        1.000000"
      ]
     },
     "execution_count": 9,
     "metadata": {},
     "output_type": "execute_result"
    }
   ],
   "source": [
    "df.corr()"
   ]
  },
  {
   "cell_type": "markdown",
   "metadata": {},
   "source": [
    "## Data Pre Processing"
   ]
  },
  {
   "cell_type": "markdown",
   "metadata": {},
   "source": [
    "We will map the 24 categories to numerical values from 0 to 23."
   ]
  },
  {
   "cell_type": "code",
   "execution_count": 6,
   "metadata": {
    "collapsed": false
   },
   "outputs": [
    {
     "name": "stdout",
     "output_type": "stream",
     "text": [
      "{0: 'Amazon_Instant_Video', 1: 'Apps_for_Android', 2: 'Automotive', 3: 'Baby', 4: 'Beauty', 5: 'Books', 6: 'CDs_and_Vinyl', 7: 'Cell_Phones_and_Accessories', 8: 'Clothing_Shoes_and_Jewelry', 9: 'Digital_Music', 10: 'Electronics', 11: 'Grocery_and_Gourmet_Food', 12: 'Health_and_Personal_Care', 13: 'Home_and_Kitchen', 14: 'Kindle_Store', 15: 'Movies_and_TV', 16: 'Musical_Instruments', 17: 'Office_Products', 18: 'Patio_Lawn_and_Garden', 19: 'Pet_Supplies', 20: 'Sports_and_Outdoors', 21: 'Tools_and_Home_Improvement', 22: 'Toys_and_Games', 23: 'Video_Games'}\n",
      "0       20\n",
      "1        5\n",
      "2       11\n",
      "3        7\n",
      "4        0\n",
      "5        3\n",
      "6       21\n",
      "7        9\n",
      "8       19\n",
      "9       15\n",
      "10      23\n",
      "11      14\n",
      "12      20\n",
      "13      20\n",
      "14       7\n",
      "15      19\n",
      "16      19\n",
      "17      22\n",
      "18      13\n",
      "19      14\n",
      "20      13\n",
      "21       8\n",
      "22       1\n",
      "23      12\n",
      "24       6\n",
      "25       4\n",
      "26       4\n",
      "27      16\n",
      "28      14\n",
      "29      15\n",
      "        ..\n",
      "4970    23\n",
      "4971    20\n",
      "4972     5\n",
      "4973     3\n",
      "4974     1\n",
      "4975     4\n",
      "4976     5\n",
      "4977     7\n",
      "4978    16\n",
      "4979    22\n",
      "4980     1\n",
      "4981    22\n",
      "4982    14\n",
      "4983    11\n",
      "4984    18\n",
      "4985     5\n",
      "4986    20\n",
      "4987     5\n",
      "4988     5\n",
      "4989    15\n",
      "4990     6\n",
      "4991    20\n",
      "4992    16\n",
      "4993    21\n",
      "4994    15\n",
      "4995     6\n",
      "4996    22\n",
      "4997    14\n",
      "4998    14\n",
      "4999    16\n",
      "Name: category_encode, dtype: int8\n"
     ]
    }
   ],
   "source": [
    "df['category'] = df['category'].astype('category')\n",
    "\n",
    "mapper = dict( enumerate(df.category.cat.categories) )\n",
    "print(mapper)\n",
    "df['category_encode'] = df['category'].cat.codes\n",
    "print(df['category_encode'])"
   ]
  },
  {
   "cell_type": "code",
   "execution_count": 7,
   "metadata": {
    "collapsed": false
   },
   "outputs": [],
   "source": [
    "# adding summary to reviewText\n",
    "df['reviewText'] = df['summary'] + ' ' + df['reviewText']"
   ]
  },
  {
   "cell_type": "code",
   "execution_count": 8,
   "metadata": {
    "collapsed": false
   },
   "outputs": [],
   "source": [
    "# convert text to lowercase\n",
    "df.loc[:, 'reviewText'] = df['reviewText'].str.lower()"
   ]
  },
  {
   "cell_type": "markdown",
   "metadata": {},
   "source": [
    "We then build our Tfidf matrix _features_"
   ]
  },
  {
   "cell_type": "code",
   "execution_count": 12,
   "metadata": {
    "collapsed": false
   },
   "outputs": [
    {
     "data": {
      "text/plain": [
       "<96000x762 sparse matrix of type '<class 'numpy.float64'>'\n",
       "\twith 2251423 stored elements in Compressed Sparse Row format>"
      ]
     },
     "execution_count": 12,
     "metadata": {},
     "output_type": "execute_result"
    }
   ],
   "source": [
    "#tokenize text with Tfidf\n",
    "from sklearn.feature_extraction.text import TfidfVectorizer\n",
    "from nltk.stem.snowball import SnowballStemmer\n",
    "\n",
    "#create a stemmer\n",
    "stemmer = SnowballStemmer(\"english\")\n",
    "\n",
    "\n",
    "#define our own tokenizing function that we will pass into the TFIDFVectorizer. We will also stem the words here.\n",
    "def tokens(x):\n",
    "    x = x.split()\n",
    "    stems = []\n",
    "    [stems.append(stemmer.stem(word)) for word in x]\n",
    "    return stems\n",
    "\n",
    "#define the vectorizer\n",
    "vectorizer = TfidfVectorizer(tokenizer = tokens, stop_words = 'english', ngram_range=(1, 1), min_df = 0.01)\n",
    "#fit the vectorizers to the data.\n",
    "features = vectorizer.fit_transform(df['reviewText'])\n",
    "features"
   ]
  },
  {
   "cell_type": "code",
   "execution_count": 9,
   "metadata": {
    "collapsed": false
   },
   "outputs": [],
   "source": [
    "# Try to build the tfidf matrix as in assignment 1\n",
    "from sklearn.feature_extraction.text import CountVectorizer\n",
    "from sklearn.feature_extraction.text import TfidfTransformer\n",
    "from sklearn.pipeline import Pipeline\n",
    "from nltk.stem.snowball import EnglishStemmer\n",
    "from nltk.corpus import stopwords\n",
    "\n",
    "stoplist = set('i me my myself we our ours ourselves you your yours yourself yourselves he him his himself she her hers herself it its itself they them their theirs themselves what which who whom this that these those am is are was were be been being have has had having do does did doing a an the and but if or because as until while of at by for with about against between into through during before after above below to from up down in out on off over under again further then once here there when where why how all any both each few more most other some such no nor not only own same so than too very s t can will just don should now'.split())\n",
    "\n",
    "stemmer = EnglishStemmer()\n",
    "analyzer = CountVectorizer().build_analyzer()\n",
    "\n",
    "def stemmed_words(doc):\n",
    "    return (stemmer.stem(w) for w in analyzer(doc))\n",
    "\n",
    "stem_vectorizer = CountVectorizer(analyzer=stemmed_words)\n",
    "\n",
    "# set up pipeline with the modified CountVectorizer\n",
    "pipe_modified = Pipeline([('vectorize_stem', CountVectorizer(stop_words=stoplist,analyzer=stemmed_words)),\\\n",
    "                          ('compute_tfidf', TfidfTransformer())])\n",
    "\n",
    "# fit modified pipeline, then carry out vectorization and transformation in one shot\n",
    "pipe_modified.fit(df['reviewText'])\n",
    "documents_tfidf = pipe_modified.transform(df['reviewText'])"
   ]
  },
  {
   "cell_type": "code",
   "execution_count": 10,
   "metadata": {
    "collapsed": false
   },
   "outputs": [
    {
     "data": {
      "text/plain": [
       "(5000, 19078)"
      ]
     },
     "execution_count": 10,
     "metadata": {},
     "output_type": "execute_result"
    }
   ],
   "source": [
    "documents_tfidf.shape"
   ]
  },
  {
   "cell_type": "markdown",
   "metadata": {
    "collapsed": true
   },
   "source": [
    "## Step 1"
   ]
  },
  {
   "cell_type": "code",
   "execution_count": 11,
   "metadata": {
    "collapsed": false
   },
   "outputs": [],
   "source": [
    "from sklearn.model_selection import train_test_split\n",
    "\n",
    "cat_coded = df['category_encode'].values.tolist()\n",
    "\n",
    "# Split the data in 80% training set and 20% test set\n",
    "X_train, X_test, y_train, y_test = train_test_split(documents_tfidf, cat_coded, test_size=0.2, random_state=SEED)"
   ]
  },
  {
   "cell_type": "markdown",
   "metadata": {},
   "source": [
    "As a baseline model to assess the performance of our prediction we will use the following dummy classifier. Note that we use the stratified strategy."
   ]
  },
  {
   "cell_type": "code",
   "execution_count": 80,
   "metadata": {
    "collapsed": false
   },
   "outputs": [
    {
     "data": {
      "text/plain": [
       "0.050999999999999997"
      ]
     },
     "execution_count": 80,
     "metadata": {},
     "output_type": "execute_result"
    }
   ],
   "source": [
    "# set up dummy classifier and fit it to training data\n",
    "clf_dummy = dummy.DummyClassifier(strategy=\"uniform\", random_state=SEED)\n",
    "clf_dummy.fit(X_train, y_train)\n",
    "clf_dummy.score(X_test, y_test)"
   ]
  },
  {
   "cell_type": "code",
   "execution_count": 81,
   "metadata": {
    "collapsed": false
   },
   "outputs": [
    {
     "name": "stdout",
     "output_type": "stream",
     "text": [
      "accuracy : 0.051\n"
     ]
    }
   ],
   "source": [
    "y_pred = clf_dummy.predict(X_test)\n",
    "print(\"accuracy :\", np.mean(y_pred == y_test))"
   ]
  },
  {
   "cell_type": "code",
   "execution_count": 82,
   "metadata": {
    "collapsed": false,
    "scrolled": true
   },
   "outputs": [
    {
     "name": "stdout",
     "output_type": "stream",
     "text": [
      "false positive rates: [ 0.  1.]\n",
      "true positive rates:  [ 0.  1.]\n",
      "thresholds: [ 1.04166667  0.04166667]\n",
      "area under roc curve:  0.5\n"
     ]
    },
    {
     "data": {
      "image/png": "[encoded data removed]",
      "text/plain": [
       "<matplotlib.figure.Figure at 0x2554acec048>"
      ]
     },
     "metadata": {},
     "output_type": "display_data"
    }
   ],
   "source": [
    "from sklearn.metrics import roc_curve\n",
    "from sklearn.metrics import auc\n",
    "\n",
    "# DUMMY classifier returned probabilities\n",
    "clf_dummy_pred = clf_dummy.predict_proba(X_test)\n",
    "\n",
    "# compute false positive rate, true positive rate and thresholds defining ROC curve\n",
    "# (note: these values define the points at which the ROC curve has a kink)\n",
    "fpr_dummy, tpr_dummy, thresholds_dummy = roc_curve(y_test, clf_dummy_pred[:,1], pos_label=1)\n",
    "print('false positive rates:', fpr_dummy)\n",
    "print('true positive rates: ', tpr_dummy)\n",
    "print('thresholds:', thresholds_dummy)\n",
    "\n",
    "# compute and show area under the ROC curve\n",
    "roc_auc_dummy = auc(fpr_dummy, tpr_dummy)\n",
    "print ('area under roc curve: ', roc_auc_dummy)\n",
    "\n",
    "# plot the ROC curve\n",
    "plt.plot(fpr_dummy, tpr_dummy, color='red',lw=2)\n",
    "plt.xlim([0.0, 1.0])\n",
    "plt.ylim([0.0, 1.05])\n",
    "plt.title('ROC curve for Dummy Classifier')\n",
    "plt.xlabel('False Positive Rate')\n",
    "plt.ylabel('True Positive Rate')\n",
    "plt.show()"
   ]
  },
  {
   "cell_type": "code",
   "execution_count": 18,
   "metadata": {
    "collapsed": false,
    "scrolled": true
   },
   "outputs": [
    {
     "data": {
      "text/plain": [
       "Pipeline(steps=[('MaxAbsScalar', MaxAbsScaler(copy=True)), ('knn_cls', KNeighborsClassifier(algorithm='brute', leaf_size=30, metric='minkowski',\n",
       "           metric_params=None, n_jobs=1, n_neighbors=59, p=2,\n",
       "           weights='distance'))])"
      ]
     },
     "execution_count": 18,
     "metadata": {},
     "output_type": "execute_result"
    }
   ],
   "source": [
    "# define a pipeline with maxabs standardization preprocessing with Euclidean measure of distance\n",
    "estimators = []\n",
    "estimators.append(('MaxAbsScalar', preprocessing.MaxAbsScaler()))\n",
    "estimators.append(('knn_cls', neighbors.KNeighborsClassifier()))\n",
    "cls_knn_pipe = Pipeline(estimators)\n",
    "cls_knn_pipe.set_params(knn_cls__algorithm='brute')\n",
    "cls_knn_pipe.set_params(knn_cls__weights='distance')\n",
    "\n",
    "# create a grid search over n_neighbors values\n",
    "parameters = {\n",
    "        'knn_cls__n_neighbors' : np.arange(1,100)\n",
    "}\n",
    "estimator_knncls = GridSearchCV(cls_knn_pipe, parameters, cv=5, n_jobs=-1)\n",
    "                  \n",
    "# evaluate the grid search and print best estimator\n",
    "estimator_knncls.fit(X_train, y_train)\n",
    "estimator_knncls.best_estimator_"
   ]
  },
  {
   "cell_type": "code",
   "execution_count": 20,
   "metadata": {
    "collapsed": false,
    "scrolled": true
   },
   "outputs": [
    {
     "name": "stderr",
     "output_type": "stream",
     "text": [
      "/home/louis_baligand/anaconda3/lib/python3.6/site-packages/sklearn/model_selection/_search.py:667: DeprecationWarning: The grid_scores_ attribute was deprecated in version 0.18 in favor of the more elaborate cv_results_ attribute. The grid_scores_ attribute will not be available from 0.20\n",
      "  DeprecationWarning)\n",
      "/home/louis_baligand/anaconda3/lib/python3.6/site-packages/matplotlib/font_manager.py:1297: UserWarning: findfont: Font family ['sans-serif'] not found. Falling back to DejaVu Sans\n",
      "  (prop.get_family(), self.defaultFamily[fontext]))\n"
     ]
    },
    {
     "data": {
      "image/png": "[encoded data removed]",
      "text/plain": [
       "<matplotlib.figure.Figure at 0x7f2804252b70>"
      ]
     },
     "metadata": {},
     "output_type": "display_data"
    }
   ],
   "source": [
    "ks = np.arange(1,100)\n",
    "scores = [x[1] for x in estimator_knncls.grid_scores_]\n",
    "plt.plot(ks, scores)\n",
    "plt.xlabel('number of neighbours k')\n",
    "plt.ylabel('Mean score')\n",
    "plt.title('GridSearchCV 5-fold results with kNN')\n",
    "plt.show()"
   ]
  },
  {
   "cell_type": "code",
   "execution_count": 21,
   "metadata": {
    "collapsed": false
   },
   "outputs": [
    {
     "data": {
      "text/plain": [
       "0.11899999999999999"
      ]
     },
     "execution_count": 21,
     "metadata": {},
     "output_type": "execute_result"
    }
   ],
   "source": [
    "best_k = 59\n",
    "\n",
    "# fix the number of neighbors to the best value\n",
    "cls_knn_pipe.set_params(knn_cls__n_neighbors=59)\n",
    "\n",
    "# fit the model to the training set\n",
    "cls_knn_pipe.fit(X_train, y_train)\n",
    "\n",
    "# assess the performance on the test set using R^2 score\n",
    "cls_knn_pipe.score(X_test, y_test)"
   ]
  },
  {
   "cell_type": "code",
   "execution_count": 8,
   "metadata": {
    "collapsed": false,
    "scrolled": true
   },
   "outputs": [
    {
     "name": "stdout",
     "output_type": "stream",
     "text": [
      "Fitting 5 folds for each of 8 candidates, totalling 40 fits\n",
      "[CV] svm_clf__C=0.03125 ..............................................\n",
      "[CV] svm_clf__C=0.03125 ..............................................\n",
      "[CV] svm_clf__C=0.03125 ..............................................\n",
      "[CV] svm_clf__C=0.03125 ..............................................\n",
      "[CV] svm_clf__C=0.03125 ..............................................\n",
      "[CV] svm_clf__C=0.226430916066 .......................................\n",
      "[CV] svm_clf__C=0.226430916066 .......................................\n",
      "[CV] svm_clf__C=0.226430916066 .......................................\n",
      "[CV] ........................ svm_clf__C=0.226430916066, total=69.5min\n",
      "[CV] svm_clf__C=0.226430916066 .......................................\n",
      "[CV] ........................ svm_clf__C=0.226430916066, total=69.5min\n",
      "[CV] svm_clf__C=0.226430916066 .......................................\n",
      "[CV] ........................ svm_clf__C=0.226430916066, total=69.8min\n",
      "[CV] svm_clf__C=1.64067071202 ........................................\n",
      "[CV] .............................. svm_clf__C=0.03125, total=111.2min\n",
      "[CV] svm_clf__C=1.64067071202 ........................................\n",
      "[CV] .............................. svm_clf__C=0.03125, total=111.2min\n",
      "[CV] svm_clf__C=1.64067071202 ........................................\n",
      "[CV] .............................. svm_clf__C=0.03125, total=112.4min\n",
      "[CV] svm_clf__C=1.64067071202 ........................................\n",
      "[CV] .............................. svm_clf__C=0.03125, total=111.8min\n",
      "[CV] svm_clf__C=1.64067071202 ........................................\n",
      "[CV] .............................. svm_clf__C=0.03125, total=111.9min\n",
      "[CV] svm_clf__C=11.8879543131 ........................................\n",
      "[CV] ......................... svm_clf__C=1.64067071202, total=38.0min\n",
      "[CV] svm_clf__C=11.8879543131 ........................................\n",
      "[CV] ........................ svm_clf__C=0.226430916066, total=51.5min\n",
      "[CV] svm_clf__C=11.8879543131 ........................................\n",
      "[CV] ........................ svm_clf__C=0.226430916066, total=52.1min\n",
      "[CV] svm_clf__C=11.8879543131 ........................................\n",
      "[CV] ......................... svm_clf__C=1.64067071202, total=36.9min\n",
      "[CV] svm_clf__C=11.8879543131 ........................................\n",
      "[CV] ......................... svm_clf__C=1.64067071202, total=35.9min\n",
      "[CV] svm_clf__C=86.1376123285 ........................................\n",
      "[CV] ......................... svm_clf__C=1.64067071202, total=37.1min\n",
      "[CV] svm_clf__C=86.1376123285 ........................................\n",
      "[CV] ......................... svm_clf__C=1.64067071202, total=36.7min\n",
      "[CV] svm_clf__C=86.1376123285 ........................................\n",
      "[CV] ......................... svm_clf__C=11.8879543131, total=36.3min\n",
      "[CV] svm_clf__C=86.1376123285 ........................................\n",
      "[CV] ......................... svm_clf__C=11.8879543131, total=33.8min\n",
      "[CV] svm_clf__C=86.1376123285 ........................................\n",
      "[CV] ......................... svm_clf__C=11.8879543131, total=36.1min\n",
      "[CV] svm_clf__C=624.134990953 ........................................\n",
      "[CV] ......................... svm_clf__C=11.8879543131, total=36.3min\n",
      "[CV] svm_clf__C=624.134990953 ........................................\n",
      "[CV] ......................... svm_clf__C=11.8879543131, total=36.9min\n",
      "[CV] svm_clf__C=624.134990953 ........................................\n",
      "[CV] ......................... svm_clf__C=86.1376123285, total=36.7min\n",
      "[CV] svm_clf__C=624.134990953 ........................................\n",
      "[CV] ......................... svm_clf__C=86.1376123285, total=34.8min\n",
      "[CV] svm_clf__C=624.134990953 ........................................\n",
      "[CV] ......................... svm_clf__C=86.1376123285, total=35.6min\n",
      "[CV] svm_clf__C=4522.35064801 ........................................\n",
      "[CV] ......................... svm_clf__C=86.1376123285, total=35.7min\n",
      "[CV] svm_clf__C=4522.35064801 ........................................\n",
      "[CV] ......................... svm_clf__C=86.1376123285, total=34.7min\n",
      "[CV] svm_clf__C=4522.35064801 ........................................\n"
     ]
    },
    {
     "name": "stderr",
     "output_type": "stream",
     "text": [
      "[Parallel(n_jobs=-1)]: Done  25 tasks      | elapsed: 315.9min\n"
     ]
    },
    {
     "name": "stdout",
     "output_type": "stream",
     "text": [
      "[CV] ......................... svm_clf__C=624.134990953, total=36.5min\n",
      "[CV] svm_clf__C=4522.35064801 ........................................\n",
      "[CV] ......................... svm_clf__C=624.134990953, total=36.4min\n",
      "[CV] svm_clf__C=4522.35064801 ........................................\n",
      "[CV] ......................... svm_clf__C=624.134990953, total=35.4min\n",
      "[CV] svm_clf__C=32768.0 ..............................................\n",
      "[CV] ......................... svm_clf__C=624.134990953, total=35.7min\n",
      "[CV] svm_clf__C=32768.0 ..............................................\n",
      "[CV] ......................... svm_clf__C=624.134990953, total=35.1min\n",
      "[CV] svm_clf__C=32768.0 ..............................................\n",
      "[CV] ......................... svm_clf__C=4522.35064801, total=35.4min\n",
      "[CV] svm_clf__C=32768.0 ..............................................\n",
      "[CV] ......................... svm_clf__C=4522.35064801, total=35.2min\n",
      "[CV] svm_clf__C=32768.0 ..............................................\n",
      "[CV] ......................... svm_clf__C=4522.35064801, total=35.8min\n",
      "[CV] ......................... svm_clf__C=4522.35064801, total=34.7min\n",
      "[CV] ......................... svm_clf__C=4522.35064801, total=36.0min\n",
      "[CV] ............................... svm_clf__C=32768.0, total=35.7min\n",
      "[CV] ............................... svm_clf__C=32768.0, total=35.1min\n",
      "[CV] ............................... svm_clf__C=32768.0, total=35.3min\n",
      "[CV] ............................... svm_clf__C=32768.0, total=35.8min\n",
      "[CV] ............................... svm_clf__C=32768.0, total=35.0min\n"
     ]
    },
    {
     "name": "stderr",
     "output_type": "stream",
     "text": [
      "[Parallel(n_jobs=-1)]: Done  40 out of  40 | elapsed: 435.3min finished\n"
     ]
    },
    {
     "data": {
      "text/plain": [
       "{'svm_clf__C': 1.6406707120152759}"
      ]
     },
     "execution_count": 8,
     "metadata": {},
     "output_type": "execute_result"
    }
   ],
   "source": [
    "# setup pipeline\n",
    "estimators = []\n",
    "estimators.append(('normalize', Normalizer()))\n",
    "estimators.append(('svm_clf', svm.SVC()))\n",
    "pipe = Pipeline(estimators)\n",
    "pipe.set_params(svm_clf__kernel='linear')\n",
    "\n",
    "# tuning requsted parameter\n",
    "tuned_parameters = [{'svm_clf__C': np.logspace(-5,15,8,base=2.0)}]\n",
    "clf = GridSearchCV(pipe, tuned_parameters, cv=5, scoring='accuracy', n_jobs=-1, verbose=2)\n",
    "clf.fit(X_train,y_train)\n",
    "clf.best_params_"
   ]
  },
  {
   "cell_type": "code",
   "execution_count": 26,
   "metadata": {
    "collapsed": false
   },
   "outputs": [],
   "source": [
    "#save the results GridSearchCV 5-fold results with SVM classifier\n",
    "clf_results = [0.63308593749999997, 0.73296874999999995, 0.75221354166666665, 0.72329427083333331, 0.71470052083333335, 0.71380208333333328, 0.71375, 0.71375]"
   ]
  },
  {
   "cell_type": "code",
   "execution_count": 23,
   "metadata": {
    "collapsed": false
   },
   "outputs": [
    {
     "name": "stderr",
     "output_type": "stream",
     "text": [
      "/home/louis_baligand/anaconda3/lib/python3.6/site-packages/sklearn/model_selection/_search.py:667: DeprecationWarning: The grid_scores_ attribute was deprecated in version 0.18 in favor of the more elaborate cv_results_ attribute. The grid_scores_ attribute will not be available from 0.20\n",
      "  DeprecationWarning)\n",
      "/home/louis_baligand/anaconda3/lib/python3.6/site-packages/matplotlib/font_manager.py:1297: UserWarning: findfont: Font family ['sans-serif'] not found. Falling back to DejaVu Sans\n",
      "  (prop.get_family(), self.defaultFamily[fontext]))\n"
     ]
    },
    {
     "data": {
      "image/png": "[encoded data removed]",
      "text/plain": [
       "<matplotlib.figure.Figure at 0x7efd600ef400>"
      ]
     },
     "metadata": {},
     "output_type": "display_data"
    }
   ],
   "source": [
    "Cs = np.logspace(-5,15,8,base=2.0)\n",
    "scores = [x[1] for x in clf.grid_scores_]\n",
    "plt.plot(Cs, scores)\n",
    "plt.xlabel('C')\n",
    "plt.xscale('log')\n",
    "plt.ylabel('Mean score')\n",
    "plt.title('GridSearchCV 5-fold results with SVM classifier')\n",
    "plt.show()"
   ]
  },
  {
   "cell_type": "code",
   "execution_count": 23,
   "metadata": {
    "collapsed": true
   },
   "outputs": [],
   "source": [
    "# best C value using GridSearchCV\n",
    "best_C_SVC = 2"
   ]
  },
  {
   "cell_type": "code",
   "execution_count": 19,
   "metadata": {
    "collapsed": false
   },
   "outputs": [
    {
     "data": {
      "text/plain": [
       "0.75864583333333335"
      ]
     },
     "execution_count": 19,
     "metadata": {},
     "output_type": "execute_result"
    }
   ],
   "source": [
    "# assessing best performing SVC on test set\n",
    "\n",
    "# setup pipeline\n",
    "estimators = []\n",
    "estimators.append(('normalize', Normalizer()))\n",
    "estimators.append(('svm_clf', svm.SVC()))\n",
    "pipe = Pipeline(estimators)\n",
    "pipe.set_params(svm_clf__kernel='linear', svm_clf__C=best_C_SVC)\n",
    "\n",
    "pipe.fit(X_train,y_train)\n",
    "y_pred = pipe.predict(X_test)\n",
    "accuracy_score(y_test, y_pred)"
   ]
  },
  {
   "cell_type": "code",
   "execution_count": 12,
   "metadata": {
    "collapsed": false
   },
   "outputs": [
    {
     "name": "stdout",
     "output_type": "stream",
     "text": [
      "Fitting 5 folds for each of 36 candidates, totalling 180 fits\n",
      "[CV] C=0.01, gamma=0.0001 ............................................\n",
      "[CV] C=0.01, gamma=0.0001 ............................................\n",
      "[CV] C=0.01, gamma=0.0001 ............................................\n",
      "[CV] C=0.01, gamma=0.0001 ............................................\n",
      "[CV] C=0.01, gamma=0.00158489319246 ..................................\n",
      "[CV] C=0.01, gamma=0.00158489319246 ..................................\n",
      "[CV] C=0.01, gamma=0.00158489319246 ..................................\n",
      "[CV] C=0.01, gamma=0.0001 ............................................\n",
      "[CV] ............................. C=0.01, gamma=0.0001, total=  17.0s\n",
      "[CV] C=0.01, gamma=0.00158489319246 ..................................\n",
      "[CV] ................... C=0.01, gamma=0.00158489319246, total=  17.1s\n",
      "[CV] C=0.01, gamma=0.00158489319246 ..................................\n",
      "[CV] ............................. C=0.01, gamma=0.0001, total=  17.1s\n",
      "[CV] C=0.01, gamma=0.0251188643151 ...................................\n",
      "[CV] ................... C=0.01, gamma=0.00158489319246, total=  17.2s\n",
      "[CV] C=0.01, gamma=0.0251188643151 ...................................\n",
      "[CV] ............................. C=0.01, gamma=0.0001, total=  17.2s\n",
      "[CV] C=0.01, gamma=0.0251188643151 ...................................\n",
      "[CV] ............................. C=0.01, gamma=0.0001, total=  17.1s\n",
      "[CV] C=0.01, gamma=0.0251188643151 ...................................\n",
      "[CV] ................... C=0.01, gamma=0.00158489319246, total=  17.1s\n",
      "[CV] C=0.01, gamma=0.0251188643151 ...................................\n",
      "[CV] ............................. C=0.01, gamma=0.0001, total=  17.3s\n",
      "[CV] C=0.01, gamma=0.398107170553 ....................................\n",
      "[CV] ................... C=0.01, gamma=0.00158489319246, total=  18.1s\n",
      "[CV] C=0.01, gamma=0.398107170553 ....................................\n",
      "[CV] ................... C=0.01, gamma=0.00158489319246, total=  17.9s\n",
      "[CV] C=0.01, gamma=0.398107170553 ....................................\n",
      "[CV] .................... C=0.01, gamma=0.0251188643151, total=  18.2s\n",
      "[CV] C=0.01, gamma=0.398107170553 ....................................\n",
      "[CV] .................... C=0.01, gamma=0.0251188643151, total=  18.2s\n",
      "[CV] C=0.01, gamma=0.398107170553 ....................................\n",
      "[CV] .................... C=0.01, gamma=0.0251188643151, total=  18.2s\n",
      "[CV] C=0.01, gamma=6.3095734448 ......................................\n",
      "[CV] .................... C=0.01, gamma=0.0251188643151, total=  18.2s\n",
      "[CV] C=0.01, gamma=6.3095734448 ......................................\n",
      "[CV] .................... C=0.01, gamma=0.0251188643151, total=  18.3s\n",
      "[CV] C=0.01, gamma=6.3095734448 ......................................\n",
      "[CV] ..................... C=0.01, gamma=0.398107170553, total=  18.4s\n",
      "[CV] C=0.01, gamma=6.3095734448 ......................................\n",
      "[CV] ..................... C=0.01, gamma=0.398107170553, total=  18.3s\n",
      "[CV] C=0.01, gamma=6.3095734448 ......................................\n",
      "[CV] ..................... C=0.01, gamma=0.398107170553, total=  18.4s\n",
      "[CV] C=0.01, gamma=100.0 .............................................\n",
      "[CV] ..................... C=0.01, gamma=0.398107170553, total=  18.3s\n",
      "[CV] C=0.01, gamma=100.0 .............................................\n",
      "[CV] ..................... C=0.01, gamma=0.398107170553, total=  18.3s\n",
      "[CV] C=0.01, gamma=100.0 .............................................\n",
      "[CV] ....................... C=0.01, gamma=6.3095734448, total=  18.5s\n",
      "[CV] C=0.01, gamma=100.0 .............................................\n",
      "[CV] ....................... C=0.01, gamma=6.3095734448, total=  18.7s\n",
      "[CV] C=0.01, gamma=100.0 .............................................\n",
      "[CV] ....................... C=0.01, gamma=6.3095734448, total=  18.8s\n",
      "[CV] C=0.158489319246, gamma=0.0001 ..................................\n",
      "[CV] ....................... C=0.01, gamma=6.3095734448, total=  18.8s\n",
      "[CV] C=0.158489319246, gamma=0.0001 ..................................\n",
      "[CV] ....................... C=0.01, gamma=6.3095734448, total=  18.4s\n",
      "[CV] .............................. C=0.01, gamma=100.0, total=  18.3s\n",
      "[CV] C=0.158489319246, gamma=0.0001 ..................................\n",
      "[CV] C=0.158489319246, gamma=0.0001 ..................................\n"
     ]
    },
    {
     "name": "stderr",
     "output_type": "stream",
     "text": [
      "[Parallel(n_jobs=-1)]: Done  25 tasks      | elapsed:  1.8min\n"
     ]
    },
    {
     "name": "stdout",
     "output_type": "stream",
     "text": [
      "[CV] .............................. C=0.01, gamma=100.0, total=  18.5s\n",
      "[CV] C=0.158489319246, gamma=0.0001 ..................................\n",
      "[CV] .............................. C=0.01, gamma=100.0, total=  18.4s\n",
      "[CV] C=0.158489319246, gamma=0.00158489319246 ........................\n",
      "[CV] ................... C=0.158489319246, gamma=0.0001, total=  17.7s\n",
      "[CV] C=0.158489319246, gamma=0.00158489319246 ........................\n",
      "[CV] .............................. C=0.01, gamma=100.0, total=  18.5s\n",
      "[CV] C=0.158489319246, gamma=0.00158489319246 ........................\n",
      "[CV] .............................. C=0.01, gamma=100.0, total=  18.4s\n",
      "[CV] C=0.158489319246, gamma=0.00158489319246 ........................\n",
      "[CV] ................... C=0.158489319246, gamma=0.0001, total=  17.8s\n",
      "[CV] C=0.158489319246, gamma=0.00158489319246 ........................\n",
      "[CV] ................... C=0.158489319246, gamma=0.0001, total=  17.6s\n",
      "[CV] C=0.158489319246, gamma=0.0251188643151 .........................\n",
      "[CV] ................... C=0.158489319246, gamma=0.0001, total=  17.7s\n",
      "[CV] C=0.158489319246, gamma=0.0251188643151 .........................\n",
      "[CV] ................... C=0.158489319246, gamma=0.0001, total=  17.6s\n",
      "[CV] C=0.158489319246, gamma=0.0251188643151 .........................\n",
      "[CV] ......... C=0.158489319246, gamma=0.00158489319246, total=  17.8s\n",
      "[CV] C=0.158489319246, gamma=0.0251188643151 .........................\n",
      "[CV] ......... C=0.158489319246, gamma=0.00158489319246, total=  17.9s\n",
      "[CV] C=0.158489319246, gamma=0.0251188643151 .........................\n",
      "[CV] ......... C=0.158489319246, gamma=0.00158489319246, total=  18.0s\n",
      "[CV] C=0.158489319246, gamma=0.398107170553 ..........................\n",
      "[CV] ......... C=0.158489319246, gamma=0.00158489319246, total=  17.9s\n",
      "[CV] C=0.158489319246, gamma=0.398107170553 ..........................\n",
      "[CV] ......... C=0.158489319246, gamma=0.00158489319246, total=  17.9s\n",
      "[CV] C=0.158489319246, gamma=0.398107170553 ..........................\n",
      "[CV] .......... C=0.158489319246, gamma=0.0251188643151, total=  17.8s\n",
      "[CV] C=0.158489319246, gamma=0.398107170553 ..........................\n",
      "[CV] .......... C=0.158489319246, gamma=0.0251188643151, total=  18.0s\n",
      "[CV] .......... C=0.158489319246, gamma=0.0251188643151, total=  18.1s\n",
      "[CV] C=0.158489319246, gamma=0.398107170553 ..........................\n",
      "[CV] C=0.158489319246, gamma=6.3095734448 ............................\n",
      "[CV] .......... C=0.158489319246, gamma=0.0251188643151, total=  18.1s\n",
      "[CV] C=0.158489319246, gamma=6.3095734448 ............................\n",
      "[CV] .......... C=0.158489319246, gamma=0.0251188643151, total=  17.9s\n",
      "[CV] C=0.158489319246, gamma=6.3095734448 ............................\n",
      "[CV] ........... C=0.158489319246, gamma=0.398107170553, total=  18.0s\n",
      "[CV] C=0.158489319246, gamma=6.3095734448 ............................\n",
      "[CV] ........... C=0.158489319246, gamma=0.398107170553, total=  18.0s\n",
      "[CV] C=0.158489319246, gamma=6.3095734448 ............................\n",
      "[CV] ........... C=0.158489319246, gamma=0.398107170553, total=  18.1s\n",
      "[CV] C=0.158489319246, gamma=100.0 ...................................\n",
      "[CV] ........... C=0.158489319246, gamma=0.398107170553, total=  18.0s\n",
      "[CV] C=0.158489319246, gamma=100.0 ...................................\n",
      "[CV] ........... C=0.158489319246, gamma=0.398107170553, total=  18.0s\n",
      "[CV] C=0.158489319246, gamma=100.0 ...................................\n",
      "[CV] ............. C=0.158489319246, gamma=6.3095734448, total=  18.7s\n",
      "[CV] C=0.158489319246, gamma=100.0 ...................................\n",
      "[CV] ............. C=0.158489319246, gamma=6.3095734448, total=  18.7s\n",
      "[CV] C=0.158489319246, gamma=100.0 ...................................\n",
      "[CV] ............. C=0.158489319246, gamma=6.3095734448, total=  18.6s\n",
      "[CV] C=2.51188643151, gamma=0.0001 ...................................\n",
      "[CV] ............. C=0.158489319246, gamma=6.3095734448, total=  18.6s\n",
      "[CV] C=2.51188643151, gamma=0.0001 ...................................\n",
      "[CV] ............. C=0.158489319246, gamma=6.3095734448, total=  18.6s\n",
      "[CV] C=2.51188643151, gamma=0.0001 ...................................\n",
      "[CV] .................... C=0.158489319246, gamma=100.0, total=  18.6s\n",
      "[CV] C=2.51188643151, gamma=0.0001 ...................................\n",
      "[CV] .................... C=0.158489319246, gamma=100.0, total=  18.4s\n",
      "[CV] C=2.51188643151, gamma=0.0001 ...................................\n",
      "[CV] .................... C=0.158489319246, gamma=100.0, total=  18.6s\n",
      "[CV] C=2.51188643151, gamma=0.00158489319246 .........................\n",
      "[CV] .................... C=2.51188643151, gamma=0.0001, total=  17.7s\n",
      "[CV] C=2.51188643151, gamma=0.00158489319246 .........................\n",
      "[CV] .................... C=2.51188643151, gamma=0.0001, total=  17.9s\n",
      "[CV] C=2.51188643151, gamma=0.00158489319246 .........................\n",
      "[CV] .................... C=0.158489319246, gamma=100.0, total=  18.5s\n",
      "[CV] C=2.51188643151, gamma=0.00158489319246 .........................\n",
      "[CV] .................... C=2.51188643151, gamma=0.0001, total=  18.0s\n",
      "[CV] C=2.51188643151, gamma=0.00158489319246 .........................\n",
      "[CV] .................... C=0.158489319246, gamma=100.0, total=  18.9s\n",
      "[CV] C=2.51188643151, gamma=0.0251188643151 ..........................\n",
      "[CV] .................... C=2.51188643151, gamma=0.0001, total=  18.1s\n",
      "[CV] C=2.51188643151, gamma=0.0251188643151 ..........................\n",
      "[CV] .................... C=2.51188643151, gamma=0.0001, total=  17.6s\n",
      "[CV] C=2.51188643151, gamma=0.0251188643151 ..........................\n",
      "[CV] .......... C=2.51188643151, gamma=0.00158489319246, total=  17.8s\n",
      "[CV] C=2.51188643151, gamma=0.0251188643151 ..........................\n",
      "[CV] .......... C=2.51188643151, gamma=0.00158489319246, total=  17.9s\n",
      "[CV] C=2.51188643151, gamma=0.0251188643151 ..........................\n",
      "[CV] ........... C=2.51188643151, gamma=0.0251188643151, total=  17.6s\n",
      "[CV] C=2.51188643151, gamma=0.398107170553 ...........................\n",
      "[CV] .......... C=2.51188643151, gamma=0.00158489319246, total=  18.1s\n",
      "[CV] C=2.51188643151, gamma=0.398107170553 ...........................\n",
      "[CV] .......... C=2.51188643151, gamma=0.00158489319246, total=  18.0s\n",
      "[CV] C=2.51188643151, gamma=0.398107170553 ...........................\n",
      "[CV] .......... C=2.51188643151, gamma=0.00158489319246, total=  18.0s\n",
      "[CV] C=2.51188643151, gamma=0.398107170553 ...........................\n",
      "[CV] ........... C=2.51188643151, gamma=0.0251188643151, total=  17.8s\n",
      "[CV] C=2.51188643151, gamma=0.398107170553 ...........................\n",
      "[CV] ........... C=2.51188643151, gamma=0.0251188643151, total=  17.5s\n",
      "[CV] C=2.51188643151, gamma=6.3095734448 .............................\n",
      "[CV] ........... C=2.51188643151, gamma=0.0251188643151, total=  17.4s\n",
      "[CV] C=2.51188643151, gamma=6.3095734448 .............................\n",
      "[CV] ........... C=2.51188643151, gamma=0.0251188643151, total=  17.6s\n",
      "[CV] C=2.51188643151, gamma=6.3095734448 .............................\n",
      "[CV] ............ C=2.51188643151, gamma=0.398107170553, total=  17.7s\n",
      "[CV] C=2.51188643151, gamma=6.3095734448 .............................\n",
      "[CV] ............ C=2.51188643151, gamma=0.398107170553, total=  17.9s\n",
      "[CV] C=2.51188643151, gamma=6.3095734448 .............................\n",
      "[CV] ............ C=2.51188643151, gamma=0.398107170553, total=  17.9s\n",
      "[CV] C=2.51188643151, gamma=100.0 ....................................\n",
      "[CV] ............ C=2.51188643151, gamma=0.398107170553, total=  17.9s\n",
      "[CV] C=2.51188643151, gamma=100.0 ....................................\n",
      "[CV] ............ C=2.51188643151, gamma=0.398107170553, total=  17.9s\n",
      "[CV] C=2.51188643151, gamma=100.0 ....................................\n",
      "[CV] .............. C=2.51188643151, gamma=6.3095734448, total=  19.0s\n",
      "[CV] C=2.51188643151, gamma=100.0 ....................................\n",
      "[CV] .............. C=2.51188643151, gamma=6.3095734448, total=  19.2s\n",
      "[CV] C=2.51188643151, gamma=100.0 ....................................\n",
      "[CV] .............. C=2.51188643151, gamma=6.3095734448, total=  19.3s\n",
      "[CV] C=39.8107170553, gamma=0.0001 ...................................\n",
      "[CV] .............. C=2.51188643151, gamma=6.3095734448, total=  19.3s\n",
      "[CV] C=39.8107170553, gamma=0.0001 ...................................\n",
      "[CV] ..................... C=2.51188643151, gamma=100.0, total=  19.1s\n",
      "[CV] C=39.8107170553, gamma=0.0001 ...................................\n",
      "[CV] .............. C=2.51188643151, gamma=6.3095734448, total=  19.2s\n",
      "[CV] C=39.8107170553, gamma=0.0001 ...................................\n",
      "[CV] ..................... C=2.51188643151, gamma=100.0, total=  19.1s\n",
      "[CV] C=39.8107170553, gamma=0.0001 ...................................\n",
      "[CV] ..................... C=2.51188643151, gamma=100.0, total=  19.1s\n",
      "[CV] C=39.8107170553, gamma=0.00158489319246 .........................\n",
      "[CV] ..................... C=2.51188643151, gamma=100.0, total=  18.8s\n",
      "[CV] C=39.8107170553, gamma=0.00158489319246 .........................\n",
      "[CV] .................... C=39.8107170553, gamma=0.0001, total=  17.8s\n",
      "[CV] C=39.8107170553, gamma=0.00158489319246 .........................\n",
      "[CV] .................... C=39.8107170553, gamma=0.0001, total=  17.8s\n",
      "[CV] C=39.8107170553, gamma=0.00158489319246 .........................\n",
      "[CV] .................... C=39.8107170553, gamma=0.0001, total=  18.0s\n",
      "[CV] C=39.8107170553, gamma=0.00158489319246 .........................\n",
      "[CV] .................... C=39.8107170553, gamma=0.0001, total=  18.0s\n",
      "[CV] C=39.8107170553, gamma=0.0251188643151 ..........................\n",
      "[CV] ..................... C=2.51188643151, gamma=100.0, total=  18.9s\n",
      "[CV] C=39.8107170553, gamma=0.0251188643151 ..........................\n",
      "[CV] .................... C=39.8107170553, gamma=0.0001, total=  17.9s\n",
      "[CV] C=39.8107170553, gamma=0.0251188643151 ..........................\n",
      "[CV] .......... C=39.8107170553, gamma=0.00158489319246, total=  17.5s\n",
      "[CV] C=39.8107170553, gamma=0.0251188643151 ..........................\n",
      "[CV] .......... C=39.8107170553, gamma=0.00158489319246, total=  17.5s\n",
      "[CV] C=39.8107170553, gamma=0.0251188643151 ..........................\n",
      "[CV] .......... C=39.8107170553, gamma=0.00158489319246, total=  17.5s\n",
      "[CV] C=39.8107170553, gamma=0.398107170553 ...........................\n",
      "[CV] ........... C=39.8107170553, gamma=0.0251188643151, total=  17.3s\n",
      "[CV] C=39.8107170553, gamma=0.398107170553 ...........................\n",
      "[CV] .......... C=39.8107170553, gamma=0.00158489319246, total=  17.6s\n",
      "[CV] C=39.8107170553, gamma=0.398107170553 ...........................\n",
      "[CV] .......... C=39.8107170553, gamma=0.00158489319246, total=  17.6s\n",
      "[CV] C=39.8107170553, gamma=0.398107170553 ...........................\n",
      "[CV] ........... C=39.8107170553, gamma=0.0251188643151, total=  17.4s\n",
      "[CV] C=39.8107170553, gamma=0.398107170553 ...........................\n",
      "[CV] ........... C=39.8107170553, gamma=0.0251188643151, total=  17.4s\n",
      "[CV] C=39.8107170553, gamma=6.3095734448 .............................\n",
      "[CV] ........... C=39.8107170553, gamma=0.0251188643151, total=  17.4s\n",
      "[CV] C=39.8107170553, gamma=6.3095734448 .............................\n",
      "[CV] ........... C=39.8107170553, gamma=0.0251188643151, total=  17.1s\n",
      "[CV] C=39.8107170553, gamma=6.3095734448 .............................\n",
      "[CV] ............ C=39.8107170553, gamma=0.398107170553, total=  17.8s\n",
      "[CV] C=39.8107170553, gamma=6.3095734448 .............................\n",
      "[CV] ............ C=39.8107170553, gamma=0.398107170553, total=  18.0s\n",
      "[CV] C=39.8107170553, gamma=6.3095734448 .............................\n",
      "[CV] ............ C=39.8107170553, gamma=0.398107170553, total=  18.0s\n",
      "[CV] C=39.8107170553, gamma=100.0 ....................................\n",
      "[CV] ............ C=39.8107170553, gamma=0.398107170553, total=  18.0s\n",
      "[CV] C=39.8107170553, gamma=100.0 ....................................\n",
      "[CV] ............ C=39.8107170553, gamma=0.398107170553, total=  17.9s\n",
      "[CV] C=39.8107170553, gamma=100.0 ....................................\n",
      "[CV] .............. C=39.8107170553, gamma=6.3095734448, total=  18.9s\n",
      "[CV] C=39.8107170553, gamma=100.0 ....................................\n",
      "[CV] .............. C=39.8107170553, gamma=6.3095734448, total=  19.0s\n",
      "[CV] C=39.8107170553, gamma=100.0 ....................................\n",
      "[CV] .............. C=39.8107170553, gamma=6.3095734448, total=  18.9s\n",
      "[CV] C=630.95734448, gamma=0.0001 ....................................\n",
      "[CV] .............. C=39.8107170553, gamma=6.3095734448, total=  18.9s\n",
      "[CV] C=630.95734448, gamma=0.0001 ....................................\n",
      "[CV] ..................... C=39.8107170553, gamma=100.0, total=  18.8s\n",
      "[CV] C=630.95734448, gamma=0.0001 ....................................\n",
      "[CV] .............. C=39.8107170553, gamma=6.3095734448, total=  18.9s\n",
      "[CV] C=630.95734448, gamma=0.0001 ....................................\n",
      "[CV] ..................... C=39.8107170553, gamma=100.0, total=  18.9s\n",
      "[CV] C=630.95734448, gamma=0.0001 ....................................\n",
      "[CV] ..................... C=39.8107170553, gamma=100.0, total=  19.0s\n",
      "[CV] C=630.95734448, gamma=0.00158489319246 ..........................\n",
      "[CV] ..................... C=39.8107170553, gamma=100.0, total=  18.9s\n",
      "[CV] C=630.95734448, gamma=0.00158489319246 ..........................\n",
      "[CV] ..................... C=39.8107170553, gamma=100.0, total=  18.9s\n",
      "[CV] C=630.95734448, gamma=0.00158489319246 ..........................\n",
      "[CV] ..................... C=630.95734448, gamma=0.0001, total=  17.3s\n",
      "[CV] C=630.95734448, gamma=0.00158489319246 ..........................\n",
      "[CV] ..................... C=630.95734448, gamma=0.0001, total=  17.6s\n",
      "[CV] C=630.95734448, gamma=0.00158489319246 ..........................\n",
      "[CV] ........... C=630.95734448, gamma=0.00158489319246, total=  17.1s\n",
      "[CV] C=630.95734448, gamma=0.0251188643151 ...........................\n",
      "[CV] ..................... C=630.95734448, gamma=0.0001, total=  17.6s\n",
      "[CV] C=630.95734448, gamma=0.0251188643151 ...........................\n",
      "[CV] ..................... C=630.95734448, gamma=0.0001, total=  17.6s\n",
      "[CV] C=630.95734448, gamma=0.0251188643151 ...........................\n",
      "[CV] ..................... C=630.95734448, gamma=0.0001, total=  17.9s\n",
      "[CV] C=630.95734448, gamma=0.0251188643151 ...........................\n",
      "[CV] ........... C=630.95734448, gamma=0.00158489319246, total=  17.3s\n",
      "[CV] C=630.95734448, gamma=0.0251188643151 ...........................\n",
      "[CV] ........... C=630.95734448, gamma=0.00158489319246, total=  17.3s\n",
      "[CV] C=630.95734448, gamma=0.398107170553 ............................\n",
      "[CV] ........... C=630.95734448, gamma=0.00158489319246, total=  17.2s\n",
      "[CV] C=630.95734448, gamma=0.398107170553 ............................\n",
      "[CV] ........... C=630.95734448, gamma=0.00158489319246, total=  16.8s\n",
      "[CV] C=630.95734448, gamma=0.398107170553 ............................\n",
      "[CV] ............ C=630.95734448, gamma=0.0251188643151, total=  17.1s\n",
      "[CV] C=630.95734448, gamma=0.398107170553 ............................\n",
      "[CV] ............ C=630.95734448, gamma=0.0251188643151, total=  17.2s\n",
      "[CV] C=630.95734448, gamma=0.398107170553 ............................\n",
      "[CV] ............ C=630.95734448, gamma=0.0251188643151, total=  17.2s\n",
      "[CV] C=630.95734448, gamma=6.3095734448 ..............................\n",
      "[CV] ............ C=630.95734448, gamma=0.0251188643151, total=  17.2s\n",
      "[CV] C=630.95734448, gamma=6.3095734448 ..............................\n",
      "[CV] ............ C=630.95734448, gamma=0.0251188643151, total=  17.2s\n",
      "[CV] C=630.95734448, gamma=6.3095734448 ..............................\n",
      "[CV] ............. C=630.95734448, gamma=0.398107170553, total=  17.8s\n",
      "[CV] C=630.95734448, gamma=6.3095734448 ..............................\n",
      "[CV] ............. C=630.95734448, gamma=0.398107170553, total=  17.8s\n",
      "[CV] C=630.95734448, gamma=6.3095734448 ..............................\n",
      "[CV] ............. C=630.95734448, gamma=0.398107170553, total=  17.8s\n",
      "[CV] C=630.95734448, gamma=100.0 .....................................\n",
      "[CV] ............. C=630.95734448, gamma=0.398107170553, total=  17.8s\n",
      "[CV] C=630.95734448, gamma=100.0 .....................................\n",
      "[CV] ............. C=630.95734448, gamma=0.398107170553, total=  17.7s\n",
      "[CV] C=630.95734448, gamma=100.0 .....................................\n",
      "[CV] ............... C=630.95734448, gamma=6.3095734448, total=  18.8s\n",
      "[CV] C=630.95734448, gamma=100.0 .....................................\n",
      "[CV] ............... C=630.95734448, gamma=6.3095734448, total=  18.8s\n",
      "[CV] C=630.95734448, gamma=100.0 .....................................\n",
      "[CV] ............... C=630.95734448, gamma=6.3095734448, total=  18.9s\n",
      "[CV] C=10000.0, gamma=0.0001 .........................................\n",
      "[CV] ............... C=630.95734448, gamma=6.3095734448, total=  18.9s\n",
      "[CV] C=10000.0, gamma=0.0001 .........................................\n",
      "[CV] ...................... C=630.95734448, gamma=100.0, total=  18.6s\n",
      "[CV] C=10000.0, gamma=0.0001 .........................................\n",
      "[CV] ............... C=630.95734448, gamma=6.3095734448, total=  19.0s\n",
      "[CV] C=10000.0, gamma=0.0001 .........................................\n"
     ]
    },
    {
     "name": "stderr",
     "output_type": "stream",
     "text": [
      "[Parallel(n_jobs=-1)]: Done 146 tasks      | elapsed:  8.8min\n"
     ]
    },
    {
     "name": "stdout",
     "output_type": "stream",
     "text": [
      "[CV] ...................... C=630.95734448, gamma=100.0, total=  18.8s\n",
      "[CV] C=10000.0, gamma=0.0001 .........................................\n",
      "[CV] ...................... C=630.95734448, gamma=100.0, total=  18.9s\n",
      "[CV] C=10000.0, gamma=0.00158489319246 ...............................\n",
      "[CV] .......................... C=10000.0, gamma=0.0001, total=  17.0s\n",
      "[CV] C=10000.0, gamma=0.00158489319246 ...............................\n",
      "[CV] ...................... C=630.95734448, gamma=100.0, total=  19.0s\n",
      "[CV] C=10000.0, gamma=0.00158489319246 ...............................\n",
      "[CV] ...................... C=630.95734448, gamma=100.0, total=  18.9s\n",
      "[CV] C=10000.0, gamma=0.00158489319246 ...............................\n",
      "[CV] .......................... C=10000.0, gamma=0.0001, total=  17.2s\n",
      "[CV] C=10000.0, gamma=0.00158489319246 ...............................\n",
      "[CV] .......................... C=10000.0, gamma=0.0001, total=  17.4s\n",
      "[CV] C=10000.0, gamma=0.0251188643151 ................................\n",
      "[CV] .......................... C=10000.0, gamma=0.0001, total=  17.4s\n",
      "[CV] C=10000.0, gamma=0.0251188643151 ................................\n",
      "[CV] .......................... C=10000.0, gamma=0.0001, total=  17.2s\n",
      "[CV] C=10000.0, gamma=0.0251188643151 ................................\n",
      "[CV] ................ C=10000.0, gamma=0.00158489319246, total=  17.3s\n",
      "[CV] C=10000.0, gamma=0.0251188643151 ................................\n",
      "[CV] ................ C=10000.0, gamma=0.00158489319246, total=  17.5s\n",
      "[CV] C=10000.0, gamma=0.0251188643151 ................................\n",
      "[CV] ................ C=10000.0, gamma=0.00158489319246, total=  17.6s\n",
      "[CV] C=10000.0, gamma=0.398107170553 .................................\n",
      "[CV] ................ C=10000.0, gamma=0.00158489319246, total=  17.6s\n",
      "[CV] C=10000.0, gamma=0.398107170553 .................................\n",
      "[CV] ................ C=10000.0, gamma=0.00158489319246, total=  17.4s\n",
      "[CV] C=10000.0, gamma=0.398107170553 .................................\n",
      "[CV] ................. C=10000.0, gamma=0.0251188643151, total=  17.3s\n",
      "[CV] C=10000.0, gamma=0.398107170553 .................................\n",
      "[CV] ................. C=10000.0, gamma=0.0251188643151, total=  17.5s\n",
      "[CV] C=10000.0, gamma=0.398107170553 .................................\n",
      "[CV] ................. C=10000.0, gamma=0.0251188643151, total=  17.5s\n",
      "[CV] C=10000.0, gamma=6.3095734448 ...................................\n",
      "[CV] ................. C=10000.0, gamma=0.0251188643151, total=  17.6s\n",
      "[CV] C=10000.0, gamma=6.3095734448 ...................................\n",
      "[CV] ................. C=10000.0, gamma=0.0251188643151, total=  17.5s\n",
      "[CV] C=10000.0, gamma=6.3095734448 ...................................\n",
      "[CV] .................. C=10000.0, gamma=0.398107170553, total=  18.4s\n",
      "[CV] C=10000.0, gamma=6.3095734448 ...................................\n",
      "[CV] .................. C=10000.0, gamma=0.398107170553, total=  18.4s\n",
      "[CV] C=10000.0, gamma=6.3095734448 ...................................\n",
      "[CV] .................. C=10000.0, gamma=0.398107170553, total=  18.5s\n",
      "[CV] C=10000.0, gamma=100.0 ..........................................\n",
      "[CV] .................. C=10000.0, gamma=0.398107170553, total=  18.0s\n",
      "[CV] C=10000.0, gamma=100.0 ..........................................\n",
      "[CV] .................. C=10000.0, gamma=0.398107170553, total=  17.9s\n",
      "[CV] C=10000.0, gamma=100.0 ..........................................\n",
      "[CV] .................... C=10000.0, gamma=6.3095734448, total=  19.1s\n",
      "[CV] C=10000.0, gamma=100.0 ..........................................\n",
      "[CV] .................... C=10000.0, gamma=6.3095734448, total=  19.2s\n",
      "[CV] C=10000.0, gamma=100.0 ..........................................\n",
      "[CV] .................... C=10000.0, gamma=6.3095734448, total=  19.2s\n",
      "[CV] .................... C=10000.0, gamma=6.3095734448, total=  19.0s\n",
      "[CV] .................... C=10000.0, gamma=6.3095734448, total=  19.2s\n",
      "[CV] ........................... C=10000.0, gamma=100.0, total=  19.0s\n",
      "[CV] ........................... C=10000.0, gamma=100.0, total=  15.2s\n",
      "[CV] ........................... C=10000.0, gamma=100.0, total=  15.1s\n",
      "[CV] ........................... C=10000.0, gamma=100.0, total=  14.7s\n",
      "[CV] ........................... C=10000.0, gamma=100.0, total=  14.4s\n"
     ]
    },
    {
     "name": "stderr",
     "output_type": "stream",
     "text": [
      "[Parallel(n_jobs=-1)]: Done 180 out of 180 | elapsed: 10.5min finished\n"
     ]
    },
    {
     "data": {
      "text/plain": [
       "GridSearchCV(cv=5, error_score='raise',\n",
       "       estimator=SVC(C=1.0, cache_size=200, class_weight=None, coef0=0.0,\n",
       "  decision_function_shape=None, degree=3, gamma='auto', kernel='rbf',\n",
       "  max_iter=-1, probability=False, random_state=None, shrinking=True,\n",
       "  tol=0.001, verbose=False),\n",
       "       fit_params={}, iid=True, n_jobs=-1,\n",
       "       param_grid={'gamma': array([  1.00000e-04,   1.58489e-03,   2.51189e-02,   3.98107e-01,\n",
       "         6.30957e+00,   1.00000e+02]), 'C': array([  1.00000e-02,   1.58489e-01,   2.51189e+00,   3.98107e+01,\n",
       "         6.30957e+02,   1.00000e+04])},\n",
       "       pre_dispatch='2*n_jobs', refit=True, return_train_score=True,\n",
       "       scoring=None, verbose=2)"
      ]
     },
     "execution_count": 12,
     "metadata": {},
     "output_type": "execute_result"
    }
   ],
   "source": [
    "C_range = np.logspace(-2, 4, 6)\n",
    "gamma_range = np.logspace(-4, 2, 6)\n",
    "param_grid = dict(gamma=gamma_range, C=C_range)\n",
    "grid = GridSearchCV(svm.SVC(), param_grid=param_grid, cv=5, n_jobs=-1, verbose=2)\n",
    "grid.fit(X_train, y_train)\n"
   ]
  },
  {
   "cell_type": "code",
   "execution_count": 14,
   "metadata": {
    "collapsed": false,
    "scrolled": true
   },
   "outputs": [
    {
     "name": "stderr",
     "output_type": "stream",
     "text": [
      "/home/louis_baligand/anaconda3/lib/python3.6/site-packages/matplotlib/font_manager.py:1297: UserWarning: findfont: Font family ['sans-serif'] not found. Falling back to DejaVu Sans\n",
      "  (prop.get_family(), self.defaultFamily[fontext]))\n"
     ]
    },
    {
     "data": {
      "image/png": "[encoded data removed]",
      "text/plain": [
       "<matplotlib.figure.Figure at 0x7f5d60c472b0>"
      ]
     },
     "metadata": {},
     "output_type": "display_data"
    }
   ],
   "source": [
    "from matplotlib.colors import Normalize\n",
    "\n",
    "# Utility function to move the midpoint of a colormap to be around\n",
    "# the values of interest.\n",
    "\n",
    "class MidpointNormalize(Normalize):\n",
    "\n",
    "    def __init__(self, vmin=None, vmax=None, midpoint=None, clip=False):\n",
    "        self.midpoint = midpoint\n",
    "        Normalize.__init__(self, vmin, vmax, clip)\n",
    "\n",
    "    def __call__(self, value, clip=None):\n",
    "        x, y = [self.vmin, self.midpoint, self.vmax], [0, 0.5, 1]\n",
    "        return np.ma.masked_array(np.interp(value, x, y))\n",
    "    \n",
    "scores = grid.cv_results_['mean_test_score'].reshape(len(C_range),\n",
    "                                                     len(gamma_range))\n",
    "\n",
    "# Draw heatmap of the validation accuracy as a function of gamma and C\n",
    "#\n",
    "# The score are encoded as colors with the hot colormap which varies from dark\n",
    "# red to bright yellow. As the most interesting scores are all located in the\n",
    "# 0.92 to 0.97 range we use a custom normalizer to set the mid-point to 0.92 so\n",
    "# as to make it easier to visualize the small variations of score values in the\n",
    "# interesting range while not brutally collapsing all the low score values to\n",
    "# the same color.\n",
    "\n",
    "plt.imshow(scores, interpolation='nearest', cmap=plt.cm.hot,\n",
    "           norm=MidpointNormalize(vmin=0.2, midpoint=0.92))\n",
    "plt.xlabel('gamma')\n",
    "plt.ylabel('C')\n",
    "plt.colorbar()\n",
    "plt.xticks(np.arange(len(gamma_range)), gamma_range, rotation=45)\n",
    "plt.yticks(np.arange(len(C_range)), C_range)\n",
    "plt.title('Validation accuracy')\n",
    "plt.show()"
   ]
  },
  {
   "cell_type": "code",
   "execution_count": 15,
   "metadata": {
    "collapsed": false
   },
   "outputs": [
    {
     "data": {
      "text/plain": [
       "SVC(C=39.810717055349691, cache_size=200, class_weight=None, coef0=0.0,\n",
       "  decision_function_shape=None, degree=3, gamma=0.39810717055349693,\n",
       "  kernel='rbf', max_iter=-1, probability=False, random_state=None,\n",
       "  shrinking=True, tol=0.001, verbose=False)"
      ]
     },
     "execution_count": 15,
     "metadata": {},
     "output_type": "execute_result"
    }
   ],
   "source": [
    "grid.best_estimator_"
   ]
  },
  {
   "cell_type": "markdown",
   "metadata": {
    "collapsed": true
   },
   "source": [
    "We will now try the random forest classifier"
   ]
  },
  {
   "cell_type": "code",
   "execution_count": 20,
   "metadata": {
    "collapsed": false
   },
   "outputs": [
    {
     "name": "stdout",
     "output_type": "stream",
     "text": [
      "Fitting 5 folds for each of 13 candidates, totalling 65 fits\n",
      "[CV] max_depth=1 .....................................................\n",
      "[CV] max_depth=1 .....................................................\n",
      "[CV] max_depth=1 .....................................................\n",
      "[CV] max_depth=1 .....................................................\n",
      "[CV] max_depth=1 .....................................................\n",
      "[CV] max_depth=2 .....................................................\n",
      "[CV] max_depth=2 .....................................................\n",
      "[CV] max_depth=2 .....................................................\n",
      "[CV] ...................................... max_depth=1, total=   0.1s\n",
      "[CV] max_depth=2 .....................................................\n",
      "[CV] ...................................... max_depth=1, total=   0.1s\n",
      "[CV] max_depth=2 .....................................................\n",
      "[CV] ...................................... max_depth=1, total=   0.1s\n",
      "[CV] ...................................... max_depth=1, total=   0.1s\n",
      "[CV] max_depth=3 .....................................................\n",
      "[CV] max_depth=3 .....................................................\n",
      "[CV] ...................................... max_depth=1, total=   0.1s\n",
      "[CV] max_depth=3 .....................................................\n",
      "[CV] ...................................... max_depth=2, total=   0.1s\n",
      "[CV] max_depth=3 .....................................................\n",
      "[CV] ...................................... max_depth=2, total=   0.1s\n",
      "[CV] max_depth=3 .....................................................\n",
      "[CV] ...................................... max_depth=2, total=   0.2s\n",
      "[CV] ...................................... max_depth=2, total=   0.1s\n",
      "[CV] max_depth=4 .....................................................\n",
      "[CV] max_depth=4 .....................................................\n",
      "[CV] ...................................... max_depth=2, total=   0.1s\n",
      "[CV] max_depth=4 .....................................................\n",
      "[CV] ...................................... max_depth=3, total=   0.2s\n",
      "[CV] max_depth=5 .....................................................\n",
      "[CV] ...................................... max_depth=3, total=   0.2s\n",
      "[CV] max_depth=5 .....................................................\n",
      "[CV] ...................................... max_depth=3, total=   0.2s\n",
      "[CV] max_depth=5 .....................................................\n",
      "[CV] ...................................... max_depth=3, total=   0.2s\n",
      "[CV] max_depth=6 .....................................................\n",
      "[CV] ...................................... max_depth=3, total=   0.2s\n",
      "[CV] max_depth=6 .....................................................\n",
      "[CV] ...................................... max_depth=4, total=   0.2s\n",
      "[CV] max_depth=4 .....................................................\n",
      "[CV] ...................................... max_depth=4, total=   0.2s\n",
      "[CV] max_depth=7 .....................................................\n",
      "[CV] ...................................... max_depth=4, total=   0.2s\n",
      "[CV] max_depth=4 .....................................................\n",
      "[CV] ...................................... max_depth=5, total=   0.3s\n",
      "[CV] max_depth=5 .....................................................\n",
      "[CV] ...................................... max_depth=5, total=   0.3s\n",
      "[CV] max_depth=5 .....................................................\n",
      "[CV] ...................................... max_depth=5, total=   0.3s\n",
      "[CV] max_depth=6 .....................................................\n",
      "[CV] ...................................... max_depth=4, total=   0.2s\n",
      "[CV] max_depth=7 .....................................................\n",
      "[CV] ...................................... max_depth=6, total=   0.3s\n",
      "[CV] ...................................... max_depth=4, total=   0.2s\n",
      "[CV] max_depth=7 .....................................................\n",
      "[CV] max_depth=6 .....................................................\n",
      "[CV] ...................................... max_depth=6, total=   0.3s\n",
      "[CV] max_depth=6 .....................................................\n",
      "[CV] ...................................... max_depth=7, total=   0.4s\n",
      "[CV] max_depth=7 .....................................................\n",
      "[CV] ...................................... max_depth=5, total=   0.3s\n",
      "[CV] max_depth=8 .....................................................\n",
      "[CV] ...................................... max_depth=5, total=   0.3s\n",
      "[CV] max_depth=8 .....................................................\n",
      "[CV] ...................................... max_depth=6, total=   0.3s\n",
      "[CV] max_depth=9 .....................................................\n",
      "[CV] ...................................... max_depth=6, total=   0.3s\n",
      "[CV] ...................................... max_depth=7, total=   0.4s\n",
      "[CV] max_depth=9 .....................................................\n",
      "[CV] max_depth=7 .....................................................\n",
      "[CV] ...................................... max_depth=6, total=   0.3s\n",
      "[CV] max_depth=9 .....................................................\n",
      "[CV] ...................................... max_depth=7, total=   0.4s\n",
      "[CV] max_depth=8 .....................................................\n",
      "[CV] ...................................... max_depth=7, total=   0.4s\n",
      "[CV] max_depth=10 ....................................................\n",
      "[CV] ...................................... max_depth=8, total=   0.4s\n",
      "[CV] max_depth=8 .....................................................\n",
      "[CV] ...................................... max_depth=8, total=   0.4s\n",
      "[CV] max_depth=8 .....................................................\n",
      "[CV] ...................................... max_depth=7, total=   0.4s\n",
      "[CV] max_depth=10 ....................................................\n",
      "[CV] ...................................... max_depth=9, total=   0.5s\n",
      "[CV] max_depth=9 .....................................................\n",
      "[CV] ...................................... max_depth=8, total=   0.4s\n",
      "[CV] max_depth=11 ....................................................\n",
      "[CV] ...................................... max_depth=9, total=   0.5s\n",
      "[CV] max_depth=10 ....................................................\n",
      "[CV] ...................................... max_depth=9, total=   0.5s\n",
      "[CV] max_depth=9 .....................................................\n"
     ]
    },
    {
     "name": "stderr",
     "output_type": "stream",
     "text": [
      "[Parallel(n_jobs=-1)]: Done  34 tasks      | elapsed:    1.5s\n"
     ]
    },
    {
     "name": "stdout",
     "output_type": "stream",
     "text": [
      "[CV] ...................................... max_depth=8, total=   0.4s\n",
      "[CV] max_depth=11 ....................................................\n",
      "[CV] ..................................... max_depth=10, total=   0.5s\n",
      "[CV] ...................................... max_depth=8, total=   0.4s\n",
      "[CV] max_depth=11 ....................................................\n",
      "[CV] max_depth=10 ....................................................\n",
      "[CV] ...................................... max_depth=9, total=   0.5s\n",
      "[CV] max_depth=12 ....................................................\n",
      "[CV] ..................................... max_depth=10, total=   0.5s\n",
      "[CV] max_depth=10 ....................................................\n",
      "[CV] ..................................... max_depth=11, total=   0.6s\n",
      "[CV] max_depth=11 ....................................................\n",
      "[CV] ..................................... max_depth=10, total=   0.6s\n",
      "[CV] max_depth=12 ....................................................\n",
      "[CV] ...................................... max_depth=9, total=   0.6s\n",
      "[CV] max_depth=13 ....................................................\n",
      "[CV] ..................................... max_depth=10, total=   0.6s\n",
      "[CV] max_depth=13 ....................................................\n",
      "[CV] ..................................... max_depth=11, total=   0.7s\n",
      "[CV] max_depth=11 ....................................................\n",
      "[CV] ..................................... max_depth=11, total=   0.9s\n",
      "[CV] max_depth=12 ....................................................\n",
      "[CV] ..................................... max_depth=10, total=   0.9s\n",
      "[CV] max_depth=13 ....................................................\n",
      "[CV] ..................................... max_depth=11, total=   0.9s\n"
     ]
    },
    {
     "name": "stderr",
     "output_type": "stream",
     "text": [
      "[Parallel(n_jobs=-1)]: Done  50 out of  65 | elapsed:    2.9s remaining:    0.9s\n"
     ]
    },
    {
     "name": "stdout",
     "output_type": "stream",
     "text": [
      "[CV] ..................................... max_depth=12, total=   1.1s\n",
      "[CV] max_depth=12 ....................................................\n",
      "[CV] ..................................... max_depth=12, total=   1.0s\n",
      "[CV] max_depth=12 ....................................................\n",
      "[CV] ..................................... max_depth=13, total=   1.0s\n",
      "[CV] max_depth=13 ....................................................\n",
      "[CV] ..................................... max_depth=11, total=   0.9s\n",
      "[CV] ..................................... max_depth=13, total=   1.0s\n",
      "[CV] max_depth=13 ....................................................\n",
      "[CV] ..................................... max_depth=12, total=   0.9s\n",
      "[CV] ..................................... max_depth=13, total=   0.7s\n",
      "[CV] ..................................... max_depth=12, total=   0.7s\n",
      "[CV] ..................................... max_depth=12, total=   0.8s\n",
      "[CV] ..................................... max_depth=13, total=   0.8s\n",
      "[CV] ..................................... max_depth=13, total=   0.7s\n"
     ]
    },
    {
     "name": "stderr",
     "output_type": "stream",
     "text": [
      "[Parallel(n_jobs=-1)]: Done  65 out of  65 | elapsed:    4.2s finished\n"
     ]
    },
    {
     "data": {
      "text/plain": [
       "{'max_depth': 13}"
      ]
     },
     "execution_count": 20,
     "metadata": {},
     "output_type": "execute_result"
    }
   ],
   "source": [
    "from sklearn.ensemble import RandomForestClassifier\n",
    "from sklearn import tree\n",
    "\n",
    "# tuning requsted parameter\n",
    "from sklearn.model_selection import GridSearchCV\n",
    "tuned_parameters = [{'max_depth': range(1,14)}]\n",
    "clf = GridSearchCV(tree.DecisionTreeClassifier(), tuned_parameters, cv=5, n_jobs=-1, verbose=2)\n",
    "clf.fit(X_train,y_train)\n",
    "clf.best_params_"
   ]
  },
  {
   "cell_type": "code",
   "execution_count": 21,
   "metadata": {
    "collapsed": false
   },
   "outputs": [
    {
     "data": {
      "text/plain": [
       "GridSearchCV(cv=5, error_score='raise',\n",
       "       estimator=RandomForestClassifier(bootstrap=True, class_weight=None, criterion='gini',\n",
       "            max_depth=13, max_features='auto', max_leaf_nodes=None,\n",
       "            min_impurity_split=1e-07, min_samples_leaf=1,\n",
       "            min_samples_split=2, min_weight_fraction_leaf=0.0,\n",
       "            n_estimators=5000, n_jobs=1, oob_score=False,\n",
       "            random_state=None, verbose=0, warm_start=False),\n",
       "       fit_params={}, iid=True, n_jobs=-1,\n",
       "       param_grid=[{'max_features': range(1, 14)}],\n",
       "       pre_dispatch='2*n_jobs', refit=True, return_train_score=True,\n",
       "       scoring=None, verbose=0)"
      ]
     },
     "execution_count": 21,
     "metadata": {},
     "output_type": "execute_result"
    }
   ],
   "source": [
    "best_clf_tree_depth=13\n",
    "\n",
    "num_estimators = 5000\n",
    "tuned_parameters = [{'max_features': range(1,14)}]\n",
    "clf = GridSearchCV(RandomForestClassifier(n_estimators=num_estimators, max_depth=best_clf_tree_depth), tuned_parameters, n_jobs=-1, cv=5)\n",
    "clf.fit(X_train,y_train)"
   ]
  },
  {
   "cell_type": "code",
   "execution_count": 24,
   "metadata": {
    "collapsed": false
   },
   "outputs": [
    {
     "name": "stderr",
     "output_type": "stream",
     "text": [
      "/home/louis_baligand/anaconda3/lib/python3.6/site-packages/sklearn/model_selection/_search.py:667: DeprecationWarning: The grid_scores_ attribute was deprecated in version 0.18 in favor of the more elaborate cv_results_ attribute. The grid_scores_ attribute will not be available from 0.20\n",
      "  DeprecationWarning)\n",
      "/home/louis_baligand/anaconda3/lib/python3.6/site-packages/matplotlib/font_manager.py:1297: UserWarning: findfont: Font family ['sans-serif'] not found. Falling back to DejaVu Sans\n",
      "  (prop.get_family(), self.defaultFamily[fontext]))\n"
     ]
    },
    {
     "data": {
      "image/png": "[encoded data removed]",
      "text/plain": [
       "<matplotlib.figure.Figure at 0x7f5d608750b8>"
      ]
     },
     "metadata": {},
     "output_type": "display_data"
    }
   ],
   "source": [
    "nb_features = range(1,14)\n",
    "scores = [x[1] for x in clf.grid_scores_]\n",
    "plt.plot(nb_features, scores)\n",
    "plt.xlabel('max number of features')\n",
    "plt.ylabel('Mean score')\n",
    "plt.title('GridSearchCV 5-fold results with Random Forest classifier')\n",
    "plt.show()"
   ]
  },
  {
   "cell_type": "code",
   "execution_count": null,
   "metadata": {
    "collapsed": true
   },
   "outputs": [],
   "source": []
  }
 ],
 "metadata": {
  "anaconda-cloud": {},
  "kernelspec": {
   "display_name": "Python 3",
   "language": "python",
   "name": "python3"
  },
  "language_info": {
   "codemirror_mode": {
    "name": "ipython",
    "version": 3
   },
   "file_extension": ".py",
   "mimetype": "text/x-python",
   "name": "python",
   "nbconvert_exporter": "python",
   "pygments_lexer": "ipython3",
   "version": "3.6.0"
  }
 },
 "nbformat": 4,
 "nbformat_minor": 0
}
