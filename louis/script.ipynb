{
 "cells": [
  {
   "cell_type": "markdown",
   "metadata": {},
   "source": [
    "# Project Baudet Baligand\n",
    "\n",
    "## Project Overview\n",
    "TODO:Intro, problem statement, metrics ( I would choose Area under roc curve)\n",
    "\n",
    "## Data Exploration"
   ]
  },
  {
   "cell_type": "code",
   "execution_count": 24,
   "metadata": {
    "collapsed": false
   },
   "outputs": [],
   "source": [
    "# Useful modules, make sure you can import them before proceeding further\n",
    "import matplotlib.pyplot as plt\n",
    "%matplotlib inline\n",
    "import numpy as np\n",
    "import pandas as pd\n",
    "import json\n",
    "import string\n",
    "import os\n",
    "from sklearn import dummy\n",
    "import seaborn as sbn\n",
    "from pandas.io.json import json_normalize\n",
    "\n",
    "# Random seed to make results reducible\n",
    "SEED = 1"
   ]
  },
  {
   "cell_type": "markdown",
   "metadata": {},
   "source": [
    "We need to extract the data, and convert the data given in \"json\" to a dataframe in order to perform our analysis"
   ]
  },
  {
   "cell_type": "code",
   "execution_count": 25,
   "metadata": {
    "collapsed": false
   },
   "outputs": [],
   "source": [
    "my_list = []\n",
    "with open('amazon_step1.json') as f:\n",
    "    for line in f:\n",
    "        my_list.append(json.loads(line))\n",
    "\n",
    "df = json_normalize(my_list)"
   ]
  },
  {
   "cell_type": "code",
   "execution_count": 26,
   "metadata": {
    "collapsed": true
   },
   "outputs": [],
   "source": [
    "df = df.iloc[:10000]"
   ]
  },
  {
   "cell_type": "code",
   "execution_count": 5,
   "metadata": {
    "collapsed": false,
    "scrolled": true
   },
   "outputs": [
    {
     "data": {
      "text/html": [
       "<div>\n",
       "<table border=\"1\" class=\"dataframe\">\n",
       "  <thead>\n",
       "    <tr style=\"text-align: right;\">\n",
       "      <th></th>\n",
       "      <th>asin</th>\n",
       "      <th>category</th>\n",
       "      <th>helpful</th>\n",
       "      <th>overall</th>\n",
       "      <th>reviewText</th>\n",
       "      <th>reviewTime</th>\n",
       "      <th>reviewerID</th>\n",
       "      <th>reviewerName</th>\n",
       "      <th>summary</th>\n",
       "      <th>unixReviewTime</th>\n",
       "    </tr>\n",
       "  </thead>\n",
       "  <tbody>\n",
       "    <tr>\n",
       "      <th>0</th>\n",
       "      <td>B000J4HXUC</td>\n",
       "      <td>Sports_and_Outdoors</td>\n",
       "      <td>[1, 1]</td>\n",
       "      <td>5.0</td>\n",
       "      <td>It's a .50 Caliber Ammo Can. That largely sums...</td>\n",
       "      <td>01 5, 2014</td>\n",
       "      <td>A3QRW0UJPKIAX7</td>\n",
       "      <td>Grant Fritchey</td>\n",
       "      <td>Clean and Exactly as Advertised</td>\n",
       "      <td>1388880000</td>\n",
       "    </tr>\n",
       "  </tbody>\n",
       "</table>\n",
       "</div>"
      ],
      "text/plain": [
       "         asin             category helpful  overall  \\\n",
       "0  B000J4HXUC  Sports_and_Outdoors  [1, 1]      5.0   \n",
       "\n",
       "                                          reviewText  reviewTime  \\\n",
       "0  It's a .50 Caliber Ammo Can. That largely sums...  01 5, 2014   \n",
       "\n",
       "       reviewerID    reviewerName                          summary  \\\n",
       "0  A3QRW0UJPKIAX7  Grant Fritchey  Clean and Exactly as Advertised   \n",
       "\n",
       "   unixReviewTime  \n",
       "0      1388880000  "
      ]
     },
     "execution_count": 5,
     "metadata": {},
     "output_type": "execute_result"
    }
   ],
   "source": [
    "df.head(1)"
   ]
  },
  {
   "cell_type": "code",
   "execution_count": 27,
   "metadata": {
    "collapsed": false
   },
   "outputs": [
    {
     "name": "stdout",
     "output_type": "stream",
     "text": [
      "asin                0\n",
      "category            0\n",
      "helpful             0\n",
      "overall             0\n",
      "reviewText          0\n",
      "reviewTime          0\n",
      "reviewerID          0\n",
      "reviewerName      100\n",
      "summary             0\n",
      "unixReviewTime      0\n",
      "dtype: int64\n"
     ]
    }
   ],
   "source": [
    "#Check if we have any null values\n",
    "print (df.isnull().sum())"
   ]
  },
  {
   "cell_type": "code",
   "execution_count": 28,
   "metadata": {
    "collapsed": false
   },
   "outputs": [
    {
     "data": {
      "text/html": [
       "<div>\n",
       "<table border=\"1\" class=\"dataframe\">\n",
       "  <thead>\n",
       "    <tr style=\"text-align: right;\">\n",
       "      <th></th>\n",
       "      <th>overall</th>\n",
       "      <th>unixReviewTime</th>\n",
       "    </tr>\n",
       "  </thead>\n",
       "  <tbody>\n",
       "    <tr>\n",
       "      <th>count</th>\n",
       "      <td>10000.000000</td>\n",
       "      <td>1.000000e+04</td>\n",
       "    </tr>\n",
       "    <tr>\n",
       "      <th>mean</th>\n",
       "      <td>4.265200</td>\n",
       "      <td>1.333689e+09</td>\n",
       "    </tr>\n",
       "    <tr>\n",
       "      <th>std</th>\n",
       "      <td>1.106161</td>\n",
       "      <td>9.093044e+07</td>\n",
       "    </tr>\n",
       "    <tr>\n",
       "      <th>min</th>\n",
       "      <td>1.000000</td>\n",
       "      <td>8.946720e+08</td>\n",
       "    </tr>\n",
       "    <tr>\n",
       "      <th>25%</th>\n",
       "      <td>4.000000</td>\n",
       "      <td>1.324231e+09</td>\n",
       "    </tr>\n",
       "    <tr>\n",
       "      <th>50%</th>\n",
       "      <td>5.000000</td>\n",
       "      <td>1.366157e+09</td>\n",
       "    </tr>\n",
       "    <tr>\n",
       "      <th>75%</th>\n",
       "      <td>5.000000</td>\n",
       "      <td>1.388275e+09</td>\n",
       "    </tr>\n",
       "    <tr>\n",
       "      <th>max</th>\n",
       "      <td>5.000000</td>\n",
       "      <td>1.405987e+09</td>\n",
       "    </tr>\n",
       "  </tbody>\n",
       "</table>\n",
       "</div>"
      ],
      "text/plain": [
       "            overall  unixReviewTime\n",
       "count  10000.000000    1.000000e+04\n",
       "mean       4.265200    1.333689e+09\n",
       "std        1.106161    9.093044e+07\n",
       "min        1.000000    8.946720e+08\n",
       "25%        4.000000    1.324231e+09\n",
       "50%        5.000000    1.366157e+09\n",
       "75%        5.000000    1.388275e+09\n",
       "max        5.000000    1.405987e+09"
      ]
     },
     "execution_count": 28,
     "metadata": {},
     "output_type": "execute_result"
    }
   ],
   "source": [
    "df.describe()"
   ]
  },
  {
   "cell_type": "code",
   "execution_count": 29,
   "metadata": {
    "collapsed": false
   },
   "outputs": [
    {
     "data": {
      "text/plain": [
       "10000"
      ]
     },
     "execution_count": 29,
     "metadata": {},
     "output_type": "execute_result"
    },
    {
     "data": {
      "image/png": "[encoded data removed]",
      "text/plain": [
       "<matplotlib.figure.Figure at 0x25561e62860>"
      ]
     },
     "metadata": {},
     "output_type": "display_data"
    }
   ],
   "source": [
    "# histogram of categories\n",
    "fig, ax = plt.subplots()\n",
    "df['category'].value_counts().plot(ax=ax, kind='bar')\n",
    "df['category'].value_counts().sum()"
   ]
  },
  {
   "cell_type": "code",
   "execution_count": 30,
   "metadata": {
    "collapsed": false,
    "scrolled": true
   },
   "outputs": [
    {
     "data": {
      "text/plain": [
       "<seaborn.axisgrid.PairGrid at 0x25561e62208>"
      ]
     },
     "execution_count": 30,
     "metadata": {},
     "output_type": "execute_result"
    },
    {
     "data": {
      "image/png": "[encoded data removed]",
      "text/plain": [
       "<matplotlib.figure.Figure at 0x25561e62780>"
      ]
     },
     "metadata": {},
     "output_type": "display_data"
    }
   ],
   "source": [
    "# visualize distribution of features and pairwise relationship using seaborn pairplot\n",
    "sbn.pairplot(df)"
   ]
  },
  {
   "cell_type": "code",
   "execution_count": 31,
   "metadata": {
    "collapsed": false
   },
   "outputs": [
    {
     "data": {
      "text/html": [
       "<div>\n",
       "<table border=\"1\" class=\"dataframe\">\n",
       "  <thead>\n",
       "    <tr style=\"text-align: right;\">\n",
       "      <th></th>\n",
       "      <th>overall</th>\n",
       "      <th>unixReviewTime</th>\n",
       "    </tr>\n",
       "  </thead>\n",
       "  <tbody>\n",
       "    <tr>\n",
       "      <th>overall</th>\n",
       "      <td>1.000000</td>\n",
       "      <td>0.034526</td>\n",
       "    </tr>\n",
       "    <tr>\n",
       "      <th>unixReviewTime</th>\n",
       "      <td>0.034526</td>\n",
       "      <td>1.000000</td>\n",
       "    </tr>\n",
       "  </tbody>\n",
       "</table>\n",
       "</div>"
      ],
      "text/plain": [
       "                 overall  unixReviewTime\n",
       "overall         1.000000        0.034526\n",
       "unixReviewTime  0.034526        1.000000"
      ]
     },
     "execution_count": 31,
     "metadata": {},
     "output_type": "execute_result"
    }
   ],
   "source": [
    "df.corr()"
   ]
  },
  {
   "cell_type": "markdown",
   "metadata": {},
   "source": [
    "## Data Pre Processing"
   ]
  },
  {
   "cell_type": "markdown",
   "metadata": {},
   "source": [
    "We will map the 24 categories to numerical values from 0 to 23."
   ]
  },
  {
   "cell_type": "code",
   "execution_count": 32,
   "metadata": {
    "collapsed": false
   },
   "outputs": [
    {
     "name": "stdout",
     "output_type": "stream",
     "text": [
      "{0: 'Amazon_Instant_Video', 1: 'Apps_for_Android', 2: 'Automotive', 3: 'Baby', 4: 'Beauty', 5: 'Books', 6: 'CDs_and_Vinyl', 7: 'Cell_Phones_and_Accessories', 8: 'Clothing_Shoes_and_Jewelry', 9: 'Digital_Music', 10: 'Electronics', 11: 'Grocery_and_Gourmet_Food', 12: 'Health_and_Personal_Care', 13: 'Home_and_Kitchen', 14: 'Kindle_Store', 15: 'Movies_and_TV', 16: 'Musical_Instruments', 17: 'Office_Products', 18: 'Patio_Lawn_and_Garden', 19: 'Pet_Supplies', 20: 'Sports_and_Outdoors', 21: 'Tools_and_Home_Improvement', 22: 'Toys_and_Games', 23: 'Video_Games'}\n",
      "0       20\n",
      "1        5\n",
      "2       11\n",
      "3        7\n",
      "4        0\n",
      "5        3\n",
      "6       21\n",
      "7        9\n",
      "8       19\n",
      "9       15\n",
      "10      23\n",
      "11      14\n",
      "12      20\n",
      "13      20\n",
      "14       7\n",
      "15      19\n",
      "16      19\n",
      "17      22\n",
      "18      13\n",
      "19      14\n",
      "20      13\n",
      "21       8\n",
      "22       1\n",
      "23      12\n",
      "24       6\n",
      "25       4\n",
      "26       4\n",
      "27      16\n",
      "28      14\n",
      "29      15\n",
      "        ..\n",
      "9970    10\n",
      "9971    12\n",
      "9972     0\n",
      "9973    21\n",
      "9974    22\n",
      "9975     2\n",
      "9976    21\n",
      "9977     2\n",
      "9978    20\n",
      "9979     6\n",
      "9980     7\n",
      "9981     5\n",
      "9982    16\n",
      "9983    20\n",
      "9984    20\n",
      "9985    16\n",
      "9986     6\n",
      "9987    23\n",
      "9988    10\n",
      "9989     1\n",
      "9990     4\n",
      "9991     9\n",
      "9992     7\n",
      "9993    20\n",
      "9994     2\n",
      "9995     6\n",
      "9996    16\n",
      "9997     8\n",
      "9998    20\n",
      "9999    22\n",
      "Name: category_encode, dtype: int8\n"
     ]
    }
   ],
   "source": [
    "df['category'] = df['category'].astype('category')\n",
    "\n",
    "mapper = dict( enumerate(df.category.cat.categories) )\n",
    "print(mapper)\n",
    "df['category_encode'] = df['category'].cat.codes\n",
    "print(df['category_encode'])"
   ]
  },
  {
   "cell_type": "code",
   "execution_count": 33,
   "metadata": {
    "collapsed": false
   },
   "outputs": [],
   "source": [
    "# adding summary to reviewText\n",
    "df['reviewText'] = df['summary'] + ' ' + df['reviewText']"
   ]
  },
  {
   "cell_type": "code",
   "execution_count": 34,
   "metadata": {
    "collapsed": false
   },
   "outputs": [],
   "source": [
    "# convert text to lowercase\n",
    "df.loc[:, 'reviewText'] = df['reviewText'].str.lower()"
   ]
  },
  {
   "cell_type": "markdown",
   "metadata": {},
   "source": [
    "We then build our Tfidf matrix _features_"
   ]
  },
  {
   "cell_type": "code",
   "execution_count": 35,
   "metadata": {
    "collapsed": false
   },
   "outputs": [
    {
     "data": {
      "text/plain": [
       "<10000x779 sparse matrix of type '<class 'numpy.float64'>'\n",
       "\twith 238963 stored elements in Compressed Sparse Row format>"
      ]
     },
     "execution_count": 35,
     "metadata": {},
     "output_type": "execute_result"
    }
   ],
   "source": [
    "#tokenize text with Tfidf\n",
    "from sklearn.feature_extraction.text import TfidfVectorizer\n",
    "from nltk.stem.snowball import SnowballStemmer\n",
    "\n",
    "#create a stemmer\n",
    "stemmer = SnowballStemmer(\"english\")\n",
    "\n",
    "\n",
    "#define our own tokenizing function that we will pass into the TFIDFVectorizer. We will also stem the words here.\n",
    "def tokens(x):\n",
    "    x = x.split()\n",
    "    stems = []\n",
    "    [stems.append(stemmer.stem(word)) for word in x]\n",
    "    return stems\n",
    "\n",
    "#define the vectorizer\n",
    "vectorizer = TfidfVectorizer(tokenizer = tokens, stop_words = 'english', ngram_range=(1, 1), min_df = 0.01)\n",
    "#fit the vectorizers to the data.\n",
    "features = vectorizer.fit_transform(df['reviewText'])\n",
    "features"
   ]
  },
  {
   "cell_type": "markdown",
   "metadata": {
    "collapsed": true
   },
   "source": [
    "## Step 1"
   ]
  },
  {
   "cell_type": "code",
   "execution_count": 36,
   "metadata": {
    "collapsed": false
   },
   "outputs": [],
   "source": [
    "from sklearn.model_selection import train_test_split\n",
    "\n",
    "cat_coded = df['category_encode'].values.tolist()\n",
    "\n",
    "# Split the data in 80% training set and 20% test set\n",
    "X_train, X_test, y_train, y_test = train_test_split(features, cat_coded, test_size=0.2, random_state=SEED)"
   ]
  },
  {
   "cell_type": "markdown",
   "metadata": {},
   "source": [
    "As a baseline model to assess the performance of our prediction we will use the following dummy classifier. Note that we use the stratified strategy."
   ]
  },
  {
   "cell_type": "code",
   "execution_count": 37,
   "metadata": {
    "collapsed": false
   },
   "outputs": [
    {
     "data": {
      "text/plain": [
       "0.037499999999999999"
      ]
     },
     "execution_count": 37,
     "metadata": {},
     "output_type": "execute_result"
    }
   ],
   "source": [
    "# set up dummy classifier and fit it to training data\n",
    "clf_dummy = dummy.DummyClassifier(strategy=\"uniform\", random_state=SEED)\n",
    "clf_dummy.fit(X_train, y_train)\n",
    "clf_dummy.score(X_test, y_test)"
   ]
  },
  {
   "cell_type": "code",
   "execution_count": 38,
   "metadata": {
    "collapsed": false
   },
   "outputs": [
    {
     "name": "stdout",
     "output_type": "stream",
     "text": [
      "accuracy : 0.0375\n"
     ]
    }
   ],
   "source": [
    "y_pred = clf_dummy.predict(X_test)\n",
    "print(\"accuracy :\", np.mean(y_pred == y_test))"
   ]
  },
  {
   "cell_type": "code",
   "execution_count": 39,
   "metadata": {
    "collapsed": false,
    "scrolled": true
   },
   "outputs": [
    {
     "name": "stdout",
     "output_type": "stream",
     "text": [
      "false positive rates: [ 0.  1.]\n",
      "true positive rates:  [ 0.  1.]\n",
      "thresholds: [ 1.04166667  0.04166667]\n",
      "area under roc curve:  0.5\n"
     ]
    },
    {
     "data": {
      "image/png": "[encoded data removed]",
      "text/plain": [
       "<matplotlib.figure.Figure at 0x2555a186cf8>"
      ]
     },
     "metadata": {},
     "output_type": "display_data"
    }
   ],
   "source": [
    "from sklearn.metrics import roc_curve\n",
    "from sklearn.metrics import auc\n",
    "\n",
    "# DUMMY classifier returned probabilities\n",
    "clf_dummy_pred = clf_dummy.predict_proba(X_test)\n",
    "\n",
    "# compute false positive rate, true positive rate and thresholds defining ROC curve\n",
    "# (note: these values define the points at which the ROC curve has a kink)\n",
    "fpr_dummy, tpr_dummy, thresholds_dummy = roc_curve(y_test, clf_dummy_pred[:,1], pos_label=1)\n",
    "print('false positive rates:', fpr_dummy)\n",
    "print('true positive rates: ', tpr_dummy)\n",
    "print('thresholds:', thresholds_dummy)\n",
    "\n",
    "# compute and show area under the ROC curve\n",
    "roc_auc_dummy = auc(fpr_dummy, tpr_dummy)\n",
    "print ('area under roc curve: ', roc_auc_dummy)\n",
    "\n",
    "# plot the ROC curve\n",
    "plt.plot(fpr_dummy, tpr_dummy, color='red',lw=2)\n",
    "plt.xlim([0.0, 1.0])\n",
    "plt.ylim([0.0, 1.05])\n",
    "plt.title('ROC curve for Dummy Classifier')\n",
    "plt.xlabel('False Positive Rate')\n",
    "plt.ylabel('True Positive Rate')\n",
    "plt.show()"
   ]
  },
  {
   "cell_type": "code",
   "execution_count": 40,
   "metadata": {
    "collapsed": false
   },
   "outputs": [
    {
     "data": {
      "text/plain": [
       "Pipeline(steps=[('MaxAbsScalar', MaxAbsScaler(copy=True)), ('knn_reg', KNeighborsRegressor(algorithm='brute', leaf_size=30, metric='minkowski',\n",
       "          metric_params=None, n_jobs=1, n_neighbors=38, p=2,\n",
       "          weights='uniform'))])"
      ]
     },
     "execution_count": 40,
     "metadata": {},
     "output_type": "execute_result"
    }
   ],
   "source": [
    "# define a pipeline with maxabs standardization preprocessing with Euclidean measure of distance\n",
    "estimators = []\n",
    "estimators.append(('MaxAbsScalar', preprocessing.MaxAbsScaler()))\n",
    "estimators.append(('knn_cls', neighbors.KNeighborsClassifier()))\n",
    "cls_knn_pipe = Pipeline(estimators)\n",
    "cls_knn_pipe.set_params(knn_cls__algorithm='brute')\n",
    "cls_knn_pipe.set_params(knn_cls__weights='distance')\n",
    "\n",
    "# create a grid search over n_neighbors values\n",
    "parameters = {\n",
    "        'knn_reg__n_neighbors' : np.arange(1,100)\n",
    "}\n",
    "estimator_knncls = GridSearchCV(cls_knn_pipe, parameters, cv=5)\n",
    "                  \n",
    "# evaluate the grid search and print best regressor\n",
    "estimator_knnreg.fit(X_train, y_train)\n",
    "estimator_knnreg.best_estimator_"
   ]
  },
  {
   "cell_type": "code",
   "execution_count": 41,
   "metadata": {
    "collapsed": false
   },
   "outputs": [
    {
     "data": {
      "text/plain": [
       "0.38600000000000001"
      ]
     },
     "execution_count": 41,
     "metadata": {},
     "output_type": "execute_result"
    }
   ],
   "source": [
    "# fix the number of neighbors to the best value\n",
    "cls_knn_pipe.set_params(knn_cls__n_neighbors=38)\n",
    "\n",
    "# fit the model to the training set\n",
    "cls_knn_pipe.fit(X_train, y_train)\n",
    "\n",
    "# assess the performance on the test set using R^2 score\n",
    "cls_knn_pipe.score(X_test, y_test)"
   ]
  },
  {
   "cell_type": "code",
   "execution_count": 49,
   "metadata": {
    "collapsed": false
   },
   "outputs": [
    {
     "data": {
      "text/plain": [
       "{'svm_clf__C': 0.5}"
      ]
     },
     "execution_count": 49,
     "metadata": {},
     "output_type": "execute_result"
    }
   ],
   "source": [
    "from sklearn.model_selection import GridSearchCV\n",
    "from sklearn import svm\n",
    "from sklearn.preprocessing import Normalizer\n",
    "\n",
    "# setup pipeline\n",
    "estimators = []\n",
    "estimators.append(('normalize', Normalizer()))\n",
    "estimators.append(('svm_clf', svm.SVC()))\n",
    "pipe = Pipeline(estimators)\n",
    "pipe.set_params(svm_clf__kernel='linear')\n",
    "\n",
    "# tuning requsted parameter\n",
    "tuned_parameters = [{'svm_clf__C': np.logspace(-5,15,11,base=2.0)}]\n",
    "clf = GridSearchCV(pipe, tuned_parameters, cv=5, scoring='accuracy')\n",
    "clf.fit(X_train,y_train)\n",
    "clf.best_params_"
   ]
  },
  {
   "cell_type": "code",
   "execution_count": 50,
   "metadata": {
    "collapsed": false
   },
   "outputs": [
    {
     "data": {
      "text/plain": [
       "{'mean_fit_time': array([ 25.56680741,  19.99485273,  14.77015691,  12.63626132,\n",
       "         14.95081654,  15.55623078,  13.91598577,  13.65029974,\n",
       "         14.07812858,  14.40254655,  13.46760173]),\n",
       " 'mean_score_time': array([ 3.97816572,  3.8706995 ,  3.62534213,  3.3925035 ,  4.13729997,\n",
       "         4.06001024,  3.66051698,  3.34604549,  3.57354097,  3.96786747,\n",
       "         3.62723107]),\n",
       " 'mean_test_score': array([ 0.166625,  0.422875,  0.493   ,  0.481375,  0.450625,  0.4465  ,\n",
       "         0.445125,  0.445   ,  0.445   ,  0.445   ,  0.445   ]),\n",
       " 'mean_train_score': array([ 0.17702926,  0.48990658,  0.70106389,  0.86818794,  0.98418709,\n",
       "         0.99968755,  0.99990624,  0.99990624,  0.99990624,  0.99990624,\n",
       "         0.99990624]),\n",
       " 'param_svm_clf__C': masked_array(data = [0.03125 0.125 0.5 2.0 8.0 32.0 128.0 512.0 2048.0 8192.0 32768.0],\n",
       "              mask = [False False False False False False False False False False False],\n",
       "        fill_value = ?),\n",
       " 'params': ({'svm_clf__C': 0.03125},\n",
       "  {'svm_clf__C': 0.125},\n",
       "  {'svm_clf__C': 0.5},\n",
       "  {'svm_clf__C': 2.0},\n",
       "  {'svm_clf__C': 8.0},\n",
       "  {'svm_clf__C': 32.0},\n",
       "  {'svm_clf__C': 128.0},\n",
       "  {'svm_clf__C': 512.0},\n",
       "  {'svm_clf__C': 2048.0},\n",
       "  {'svm_clf__C': 8192.0},\n",
       "  {'svm_clf__C': 32768.0}),\n",
       " 'rank_test_score': array([11, 10,  1,  2,  3,  4,  5,  6,  6,  6,  6]),\n",
       " 'split0_test_score': array([ 0.16397516,  0.42919255,  0.48385093,  0.47018634,  0.43850932,\n",
       "         0.44161491,  0.44409938,  0.44347826,  0.44347826,  0.44347826,\n",
       "         0.44347826]),\n",
       " 'split0_train_score': array([ 0.17683881,  0.49233177,  0.70672926,  0.87323944,  0.98372457,\n",
       "         0.99968701,  0.99984351,  0.99984351,  0.99984351,  0.99984351,\n",
       "         0.99984351]),\n",
       " 'split1_test_score': array([ 0.17570093,  0.41993769,  0.49719626,  0.48847352,  0.45732087,\n",
       "         0.45482866,  0.44922118,  0.44922118,  0.44922118,  0.44922118,\n",
       "         0.44922118]),\n",
       " 'split1_train_score': array([ 0.17591869,  0.4870993 ,  0.69835809,  0.86411259,  0.98436278,\n",
       "         0.99984363,  1.        ,  1.        ,  1.        ,  1.        ,  1.        ]),\n",
       " 'split2_test_score': array([ 0.17083855,  0.43804756,  0.49749687,  0.48498123,  0.45994994,\n",
       "         0.44993742,  0.44743429,  0.44868586,  0.44868586,  0.44868586,\n",
       "         0.44868586]),\n",
       " 'split2_train_score': array([ 0.16744767,  0.49031553,  0.6977507 ,  0.86504217,  0.98359888,\n",
       "         0.9996876 ,  0.9998438 ,  0.9998438 ,  0.9998438 ,  0.9998438 ,\n",
       "         0.9998438 ]),\n",
       " 'split3_test_score': array([ 0.16489028,  0.41442006,  0.48777429,  0.47899687,  0.43824451,\n",
       "         0.4338558 ,  0.42758621,  0.42758621,  0.42758621,  0.42758621,\n",
       "         0.42758621]),\n",
       " 'split3_train_score': array([ 0.18095238,  0.490242  ,  0.70023419,  0.86651054,  0.98298205,\n",
       "         0.99953162,  0.99984387,  0.99984387,  0.99984387,  0.99984387,\n",
       "         0.99984387]),\n",
       " 'split4_test_score': array([ 0.15766332,  0.41268844,  0.49874372,  0.48429648,  0.45917085,\n",
       "         0.45226131,  0.45728643,  0.45603015,  0.45603015,  0.45603015,\n",
       "         0.45603015]),\n",
       " 'split4_train_score': array([ 0.18398876,  0.48954432,  0.70224719,  0.87203496,  0.98626717,\n",
       "         0.99968789,  1.        ,  1.        ,  1.        ,  1.        ,  1.        ]),\n",
       " 'std_fit_time': array([ 0.47126214,  0.04228385,  0.14377115,  0.08154244,  0.84245733,\n",
       "         0.34177239,  0.2761471 ,  0.11022512,  0.75385929,  0.33424489,\n",
       "         2.38444851]),\n",
       " 'std_score_time': array([ 0.20265513,  0.11469748,  0.20211937,  0.11242813,  0.51860338,\n",
       "         0.24080082,  0.46867378,  0.06864657,  0.38574184,  0.3710769 ,\n",
       "         0.8184056 ]),\n",
       " 'std_test_score': array([ 0.00616989,  0.00952097,  0.00603551,  0.00638175,  0.01004979,\n",
       "         0.00771752,  0.00976755,  0.0095616 ,  0.0095616 ,  0.0095616 ,\n",
       "         0.0095616 ]),\n",
       " 'std_train_score': array([  5.60182178e-03,   1.68364816e-03,   3.23986475e-03,\n",
       "          3.73189399e-03,   1.12868409e-03,   9.86672535e-05,\n",
       "          7.65586936e-05,   7.65586936e-05,   7.65586936e-05,\n",
       "          7.65586936e-05,   7.65586936e-05])}"
      ]
     },
     "execution_count": 50,
     "metadata": {},
     "output_type": "execute_result"
    }
   ],
   "source": [
    "clf.cv_results_"
   ]
  },
  {
   "cell_type": "code",
   "execution_count": 51,
   "metadata": {
    "collapsed": true
   },
   "outputs": [],
   "source": [
    "# best C value using GridSearchCV\n",
    "best_C_SVC = 0.5"
   ]
  },
  {
   "cell_type": "code",
   "execution_count": 52,
   "metadata": {
    "collapsed": false
   },
   "outputs": [
    {
     "data": {
      "text/plain": [
       "0.48999999999999999"
      ]
     },
     "execution_count": 52,
     "metadata": {},
     "output_type": "execute_result"
    }
   ],
   "source": [
    "# assessing best performing SVC on test set\n",
    "from sklearn.metrics import accuracy_score\n",
    "\n",
    "# setup pipeline\n",
    "estimators = []\n",
    "estimators.append(('normalize', Normalizer()))\n",
    "estimators.append(('svm_clf', svm.SVC()))\n",
    "pipe = Pipeline(estimators)\n",
    "pipe.set_params(svm_clf__kernel='linear', svm_clf__C=best_C_SVC)\n",
    "\n",
    "pipe.fit(X_train,y_train)\n",
    "y_pred = pipe.predict(X_test)\n",
    "accuracy_score(y_test, y_pred)"
   ]
  },
  {
   "cell_type": "code",
   "execution_count": null,
   "metadata": {
    "collapsed": true
   },
   "outputs": [],
   "source": [
    "\n"
   ]
  }
 ],
 "metadata": {
  "anaconda-cloud": {},
  "kernelspec": {
   "display_name": "Python [Root]",
   "language": "python",
   "name": "Python [Root]"
  },
  "language_info": {
   "codemirror_mode": {
    "name": "ipython",
    "version": 3
   },
   "file_extension": ".py",
   "mimetype": "text/x-python",
   "name": "python",
   "nbconvert_exporter": "python",
   "pygments_lexer": "ipython3",
   "version": "3.5.2"
  }
 },
 "nbformat": 4,
 "nbformat_minor": 0
}
