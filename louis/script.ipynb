{
 "cells": [
  {
   "cell_type": "markdown",
   "metadata": {},
   "source": [
    "# Project Baudet Baligand\n",
    "\n",
    "## Project Overview\n",
    "TODO:Intro, problem statement, metrics ( I would choose Area under roc curve)\n",
    "\n",
    "## Data Exploration"
   ]
  },
  {
   "cell_type": "code",
   "execution_count": 18,
   "metadata": {
    "collapsed": false
   },
   "outputs": [],
   "source": [
    "# Useful modules, make sure you can import them before proceeding further\n",
    "import matplotlib.pyplot as plt\n",
    "%matplotlib inline\n",
    "import numpy as np\n",
    "import pandas as pd\n",
    "import json\n",
    "import string\n",
    "import os\n",
    "from sklearn import dummy\n",
    "import seaborn as sbn\n",
    "from pandas.io.json import json_normalize\n",
    "from sklearn.model_selection import GridSearchCV\n",
    "from sklearn import svm\n",
    "from sklearn.preprocessing import Normalizer\n",
    "\n",
    "# Random seed to make results reducible\n",
    "SEED = 1"
   ]
  },
  {
   "cell_type": "markdown",
   "metadata": {},
   "source": [
    "We need to extract the data, and convert the data given in \"json\" to a dataframe in order to perform our analysis"
   ]
  },
  {
   "cell_type": "code",
   "execution_count": 2,
   "metadata": {
    "collapsed": false
   },
   "outputs": [],
   "source": [
    "my_list = []\n",
    "with open('amazon_step1.json') as f:\n",
    "    for line in f:\n",
    "        my_list.append(json.loads(line))\n",
    "\n",
    "df = json_normalize(my_list)"
   ]
  },
  {
   "cell_type": "code",
   "execution_count": 66,
   "metadata": {
    "collapsed": true
   },
   "outputs": [],
   "source": [
    "df = df.iloc[:5000]"
   ]
  },
  {
   "cell_type": "code",
   "execution_count": 3,
   "metadata": {
    "collapsed": false,
    "scrolled": true
   },
   "outputs": [
    {
     "data": {
      "text/html": [
       "<div>\n",
       "<table border=\"1\" class=\"dataframe\">\n",
       "  <thead>\n",
       "    <tr style=\"text-align: right;\">\n",
       "      <th></th>\n",
       "      <th>asin</th>\n",
       "      <th>category</th>\n",
       "      <th>helpful</th>\n",
       "      <th>overall</th>\n",
       "      <th>reviewText</th>\n",
       "      <th>reviewTime</th>\n",
       "      <th>reviewerID</th>\n",
       "      <th>reviewerName</th>\n",
       "      <th>summary</th>\n",
       "      <th>unixReviewTime</th>\n",
       "    </tr>\n",
       "  </thead>\n",
       "  <tbody>\n",
       "    <tr>\n",
       "      <th>0</th>\n",
       "      <td>B000J4HXUC</td>\n",
       "      <td>Sports_and_Outdoors</td>\n",
       "      <td>[1, 1]</td>\n",
       "      <td>5.0</td>\n",
       "      <td>It's a .50 Caliber Ammo Can. That largely sums...</td>\n",
       "      <td>01 5, 2014</td>\n",
       "      <td>A3QRW0UJPKIAX7</td>\n",
       "      <td>Grant Fritchey</td>\n",
       "      <td>Clean and Exactly as Advertised</td>\n",
       "      <td>1388880000</td>\n",
       "    </tr>\n",
       "  </tbody>\n",
       "</table>\n",
       "</div>"
      ],
      "text/plain": [
       "         asin             category helpful  overall  \\\n",
       "0  B000J4HXUC  Sports_and_Outdoors  [1, 1]      5.0   \n",
       "\n",
       "                                          reviewText  reviewTime  \\\n",
       "0  It's a .50 Caliber Ammo Can. That largely sums...  01 5, 2014   \n",
       "\n",
       "       reviewerID    reviewerName                          summary  \\\n",
       "0  A3QRW0UJPKIAX7  Grant Fritchey  Clean and Exactly as Advertised   \n",
       "\n",
       "   unixReviewTime  \n",
       "0      1388880000  "
      ]
     },
     "execution_count": 3,
     "metadata": {},
     "output_type": "execute_result"
    }
   ],
   "source": [
    "df.head(1)"
   ]
  },
  {
   "cell_type": "code",
   "execution_count": 4,
   "metadata": {
    "collapsed": false
   },
   "outputs": [
    {
     "name": "stdout",
     "output_type": "stream",
     "text": [
      "asin                0\n",
      "category            0\n",
      "helpful             0\n",
      "overall             0\n",
      "reviewText          0\n",
      "reviewTime          0\n",
      "reviewerID          0\n",
      "reviewerName      994\n",
      "summary             0\n",
      "unixReviewTime      0\n",
      "dtype: int64\n"
     ]
    }
   ],
   "source": [
    "#Check if we have any null values\n",
    "print (df.isnull().sum())"
   ]
  },
  {
   "cell_type": "code",
   "execution_count": 5,
   "metadata": {
    "collapsed": false
   },
   "outputs": [
    {
     "data": {
      "text/html": [
       "<div>\n",
       "<table border=\"1\" class=\"dataframe\">\n",
       "  <thead>\n",
       "    <tr style=\"text-align: right;\">\n",
       "      <th></th>\n",
       "      <th>overall</th>\n",
       "      <th>unixReviewTime</th>\n",
       "    </tr>\n",
       "  </thead>\n",
       "  <tbody>\n",
       "    <tr>\n",
       "      <th>count</th>\n",
       "      <td>96000.000000</td>\n",
       "      <td>9.600000e+04</td>\n",
       "    </tr>\n",
       "    <tr>\n",
       "      <th>mean</th>\n",
       "      <td>4.260271</td>\n",
       "      <td>1.333697e+09</td>\n",
       "    </tr>\n",
       "    <tr>\n",
       "      <th>std</th>\n",
       "      <td>1.103461</td>\n",
       "      <td>9.034763e+07</td>\n",
       "    </tr>\n",
       "    <tr>\n",
       "      <th>min</th>\n",
       "      <td>1.000000</td>\n",
       "      <td>8.827488e+08</td>\n",
       "    </tr>\n",
       "    <tr>\n",
       "      <th>25%</th>\n",
       "      <td>4.000000</td>\n",
       "      <td>1.323821e+09</td>\n",
       "    </tr>\n",
       "    <tr>\n",
       "      <th>50%</th>\n",
       "      <td>5.000000</td>\n",
       "      <td>1.365898e+09</td>\n",
       "    </tr>\n",
       "    <tr>\n",
       "      <th>75%</th>\n",
       "      <td>5.000000</td>\n",
       "      <td>1.388102e+09</td>\n",
       "    </tr>\n",
       "    <tr>\n",
       "      <th>max</th>\n",
       "      <td>5.000000</td>\n",
       "      <td>1.406074e+09</td>\n",
       "    </tr>\n",
       "  </tbody>\n",
       "</table>\n",
       "</div>"
      ],
      "text/plain": [
       "            overall  unixReviewTime\n",
       "count  96000.000000    9.600000e+04\n",
       "mean       4.260271    1.333697e+09\n",
       "std        1.103461    9.034763e+07\n",
       "min        1.000000    8.827488e+08\n",
       "25%        4.000000    1.323821e+09\n",
       "50%        5.000000    1.365898e+09\n",
       "75%        5.000000    1.388102e+09\n",
       "max        5.000000    1.406074e+09"
      ]
     },
     "execution_count": 5,
     "metadata": {},
     "output_type": "execute_result"
    }
   ],
   "source": [
    "df.describe()"
   ]
  },
  {
   "cell_type": "code",
   "execution_count": 6,
   "metadata": {
    "collapsed": false
   },
   "outputs": [
    {
     "data": {
      "text/plain": [
       "96000"
      ]
     },
     "execution_count": 6,
     "metadata": {},
     "output_type": "execute_result"
    },
    {
     "name": "stderr",
     "output_type": "stream",
     "text": [
      "/home/louis_baligand/anaconda3/lib/python3.6/site-packages/matplotlib/font_manager.py:1297: UserWarning: findfont: Font family ['sans-serif'] not found. Falling back to DejaVu Sans\n",
      "  (prop.get_family(), self.defaultFamily[fontext]))\n"
     ]
    },
    {
     "data": {
      "image/png": "[encoded data removed]",
      "text/plain": [
       "<matplotlib.figure.Figure at 0x7f7ab0e06668>"
      ]
     },
     "metadata": {},
     "output_type": "display_data"
    }
   ],
   "source": [
    "# histogram of categories\n",
    "fig, ax = plt.subplots()\n",
    "df['category'].value_counts().plot(ax=ax, kind='bar')\n",
    "df['category'].value_counts().sum()"
   ]
  },
  {
   "cell_type": "code",
   "execution_count": 7,
   "metadata": {
    "collapsed": false,
    "scrolled": true
   },
   "outputs": [
    {
     "name": "stderr",
     "output_type": "stream",
     "text": [
      "/home/louis_baligand/anaconda3/lib/python3.6/site-packages/matplotlib/font_manager.py:1297: UserWarning: findfont: Font family ['sans-serif'] not found. Falling back to DejaVu Sans\n",
      "  (prop.get_family(), self.defaultFamily[fontext]))\n"
     ]
    },
    {
     "data": {
      "text/plain": [
       "<seaborn.axisgrid.PairGrid at 0x7f7ab0a39c18>"
      ]
     },
     "execution_count": 7,
     "metadata": {},
     "output_type": "execute_result"
    },
    {
     "data": {
      "image/png": "[encoded data removed]",
      "text/plain": [
       "<matplotlib.figure.Figure at 0x7f7ab0a3ed30>"
      ]
     },
     "metadata": {},
     "output_type": "display_data"
    }
   ],
   "source": [
    "# visualize distribution of features and pairwise relationship using seaborn pairplot\n",
    "sbn.pairplot(df)"
   ]
  },
  {
   "cell_type": "code",
   "execution_count": 8,
   "metadata": {
    "collapsed": false
   },
   "outputs": [
    {
     "data": {
      "text/html": [
       "<div>\n",
       "<table border=\"1\" class=\"dataframe\">\n",
       "  <thead>\n",
       "    <tr style=\"text-align: right;\">\n",
       "      <th></th>\n",
       "      <th>overall</th>\n",
       "      <th>unixReviewTime</th>\n",
       "    </tr>\n",
       "  </thead>\n",
       "  <tbody>\n",
       "    <tr>\n",
       "      <th>overall</th>\n",
       "      <td>1.000000</td>\n",
       "      <td>0.037631</td>\n",
       "    </tr>\n",
       "    <tr>\n",
       "      <th>unixReviewTime</th>\n",
       "      <td>0.037631</td>\n",
       "      <td>1.000000</td>\n",
       "    </tr>\n",
       "  </tbody>\n",
       "</table>\n",
       "</div>"
      ],
      "text/plain": [
       "                 overall  unixReviewTime\n",
       "overall         1.000000        0.037631\n",
       "unixReviewTime  0.037631        1.000000"
      ]
     },
     "execution_count": 8,
     "metadata": {},
     "output_type": "execute_result"
    }
   ],
   "source": [
    "df.corr()"
   ]
  },
  {
   "cell_type": "markdown",
   "metadata": {},
   "source": [
    "## Data Pre Processing"
   ]
  },
  {
   "cell_type": "markdown",
   "metadata": {},
   "source": [
    "We will map the 24 categories to numerical values from 0 to 23."
   ]
  },
  {
   "cell_type": "code",
   "execution_count": 9,
   "metadata": {
    "collapsed": false
   },
   "outputs": [
    {
     "name": "stdout",
     "output_type": "stream",
     "text": [
      "{0: 'Amazon_Instant_Video', 1: 'Apps_for_Android', 2: 'Automotive', 3: 'Baby', 4: 'Beauty', 5: 'Books', 6: 'CDs_and_Vinyl', 7: 'Cell_Phones_and_Accessories', 8: 'Clothing_Shoes_and_Jewelry', 9: 'Digital_Music', 10: 'Electronics', 11: 'Grocery_and_Gourmet_Food', 12: 'Health_and_Personal_Care', 13: 'Home_and_Kitchen', 14: 'Kindle_Store', 15: 'Movies_and_TV', 16: 'Musical_Instruments', 17: 'Office_Products', 18: 'Patio_Lawn_and_Garden', 19: 'Pet_Supplies', 20: 'Sports_and_Outdoors', 21: 'Tools_and_Home_Improvement', 22: 'Toys_and_Games', 23: 'Video_Games'}\n",
      "0        20\n",
      "1         5\n",
      "2        11\n",
      "3         7\n",
      "4         0\n",
      "5         3\n",
      "6        21\n",
      "7         9\n",
      "8        19\n",
      "9        15\n",
      "10       23\n",
      "11       14\n",
      "12       20\n",
      "13       20\n",
      "14        7\n",
      "15       19\n",
      "16       19\n",
      "17       22\n",
      "18       13\n",
      "19       14\n",
      "20       13\n",
      "21        8\n",
      "22        1\n",
      "23       12\n",
      "24        6\n",
      "25        4\n",
      "26        4\n",
      "27       16\n",
      "28       14\n",
      "29       15\n",
      "         ..\n",
      "95970     6\n",
      "95971    10\n",
      "95972    20\n",
      "95973     6\n",
      "95974     1\n",
      "95975     8\n",
      "95976    10\n",
      "95977    17\n",
      "95978     2\n",
      "95979     4\n",
      "95980    20\n",
      "95981     2\n",
      "95982     1\n",
      "95983    20\n",
      "95984     7\n",
      "95985    23\n",
      "95986     2\n",
      "95987    10\n",
      "95988     9\n",
      "95989    19\n",
      "95990     0\n",
      "95991    13\n",
      "95992     4\n",
      "95993    12\n",
      "95994    10\n",
      "95995     3\n",
      "95996    21\n",
      "95997     4\n",
      "95998     7\n",
      "95999    15\n",
      "Name: category_encode, dtype: int8\n"
     ]
    }
   ],
   "source": [
    "df['category'] = df['category'].astype('category')\n",
    "\n",
    "mapper = dict( enumerate(df.category.cat.categories) )\n",
    "print(mapper)\n",
    "df['category_encode'] = df['category'].cat.codes\n",
    "print(df['category_encode'])"
   ]
  },
  {
   "cell_type": "code",
   "execution_count": 10,
   "metadata": {
    "collapsed": false
   },
   "outputs": [],
   "source": [
    "# adding summary to reviewText\n",
    "df['reviewText'] = df['summary'] + ' ' + df['reviewText']"
   ]
  },
  {
   "cell_type": "code",
   "execution_count": 11,
   "metadata": {
    "collapsed": false
   },
   "outputs": [],
   "source": [
    "# convert text to lowercase\n",
    "df.loc[:, 'reviewText'] = df['reviewText'].str.lower()"
   ]
  },
  {
   "cell_type": "markdown",
   "metadata": {},
   "source": [
    "We then build our Tfidf matrix _features_"
   ]
  },
  {
   "cell_type": "code",
   "execution_count": 12,
   "metadata": {
    "collapsed": false
   },
   "outputs": [
    {
     "data": {
      "text/plain": [
       "<96000x762 sparse matrix of type '<class 'numpy.float64'>'\n",
       "\twith 2251423 stored elements in Compressed Sparse Row format>"
      ]
     },
     "execution_count": 12,
     "metadata": {},
     "output_type": "execute_result"
    }
   ],
   "source": [
    "#tokenize text with Tfidf\n",
    "from sklearn.feature_extraction.text import TfidfVectorizer\n",
    "from nltk.stem.snowball import SnowballStemmer\n",
    "\n",
    "#create a stemmer\n",
    "stemmer = SnowballStemmer(\"english\")\n",
    "\n",
    "\n",
    "#define our own tokenizing function that we will pass into the TFIDFVectorizer. We will also stem the words here.\n",
    "def tokens(x):\n",
    "    x = x.split()\n",
    "    stems = []\n",
    "    [stems.append(stemmer.stem(word)) for word in x]\n",
    "    return stems\n",
    "\n",
    "#define the vectorizer\n",
    "vectorizer = TfidfVectorizer(tokenizer = tokens, stop_words = 'english', ngram_range=(1, 1), min_df = 0.01)\n",
    "#fit the vectorizers to the data.\n",
    "features = vectorizer.fit_transform(df['reviewText'])\n",
    "features"
   ]
  },
  {
   "cell_type": "code",
   "execution_count": 13,
   "metadata": {
    "collapsed": true
   },
   "outputs": [],
   "source": [
    "# Try to build the tfidf matrix as in assignment 1\n",
    "from sklearn.feature_extraction.text import CountVectorizer\n",
    "from sklearn.feature_extraction.text import TfidfTransformer\n",
    "from sklearn.pipeline import Pipeline\n",
    "from nltk.stem.snowball import EnglishStemmer\n",
    "\n",
    "stoplist = set('for a of the and to in'.split())\n",
    "\n",
    "stemmer = EnglishStemmer()\n",
    "analyzer = CountVectorizer().build_analyzer()\n",
    "\n",
    "def stemmed_words(doc):\n",
    "    return (stemmer.stem(w) for w in analyzer(doc))\n",
    "\n",
    "stem_vectorizer = CountVectorizer(analyzer=stemmed_words)\n",
    "\n",
    "# set up pipeline with the modified CountVectorizer\n",
    "pipe_modified = Pipeline([('vectorize_stem', CountVectorizer(stop_words=stoplist,analyzer=stemmed_words)),\\\n",
    "                          ('compute_tfidf', TfidfTransformer())])\n",
    "\n",
    "# fit modified pipeline, then carry out vectorization and transformation in one shot\n",
    "pipe_modified.fit(df['reviewText'])\n",
    "documents_tfidf = pipe_modified.transform(df['reviewText'])"
   ]
  },
  {
   "cell_type": "code",
   "execution_count": 14,
   "metadata": {
    "collapsed": false
   },
   "outputs": [
    {
     "data": {
      "text/plain": [
       "(96000, 91422)"
      ]
     },
     "execution_count": 14,
     "metadata": {},
     "output_type": "execute_result"
    }
   ],
   "source": [
    "documents_tfidf.shape"
   ]
  },
  {
   "cell_type": "markdown",
   "metadata": {
    "collapsed": true
   },
   "source": [
    "## Step 1"
   ]
  },
  {
   "cell_type": "code",
   "execution_count": 15,
   "metadata": {
    "collapsed": false
   },
   "outputs": [],
   "source": [
    "from sklearn.model_selection import train_test_split\n",
    "\n",
    "cat_coded = df['category_encode'].values.tolist()\n",
    "\n",
    "# Split the data in 80% training set and 20% test set\n",
    "X_train, X_test, y_train, y_test = train_test_split(documents_tfidf, cat_coded, test_size=0.2, random_state=SEED)"
   ]
  },
  {
   "cell_type": "markdown",
   "metadata": {},
   "source": [
    "As a baseline model to assess the performance of our prediction we will use the following dummy classifier. Note that we use the stratified strategy."
   ]
  },
  {
   "cell_type": "code",
   "execution_count": 80,
   "metadata": {
    "collapsed": false
   },
   "outputs": [
    {
     "data": {
      "text/plain": [
       "0.050999999999999997"
      ]
     },
     "execution_count": 80,
     "metadata": {},
     "output_type": "execute_result"
    }
   ],
   "source": [
    "# set up dummy classifier and fit it to training data\n",
    "clf_dummy = dummy.DummyClassifier(strategy=\"uniform\", random_state=SEED)\n",
    "clf_dummy.fit(X_train, y_train)\n",
    "clf_dummy.score(X_test, y_test)"
   ]
  },
  {
   "cell_type": "code",
   "execution_count": 81,
   "metadata": {
    "collapsed": false
   },
   "outputs": [
    {
     "name": "stdout",
     "output_type": "stream",
     "text": [
      "accuracy : 0.051\n"
     ]
    }
   ],
   "source": [
    "y_pred = clf_dummy.predict(X_test)\n",
    "print(\"accuracy :\", np.mean(y_pred == y_test))"
   ]
  },
  {
   "cell_type": "code",
   "execution_count": 82,
   "metadata": {
    "collapsed": false,
    "scrolled": true
   },
   "outputs": [
    {
     "name": "stdout",
     "output_type": "stream",
     "text": [
      "false positive rates: [ 0.  1.]\n",
      "true positive rates:  [ 0.  1.]\n",
      "thresholds: [ 1.04166667  0.04166667]\n",
      "area under roc curve:  0.5\n"
     ]
    },
    {
     "data": {
      "image/png": "[encoded data removed]",
      "text/plain": [
       "<matplotlib.figure.Figure at 0x2554acec048>"
      ]
     },
     "metadata": {},
     "output_type": "display_data"
    }
   ],
   "source": [
    "from sklearn.metrics import roc_curve\n",
    "from sklearn.metrics import auc\n",
    "\n",
    "# DUMMY classifier returned probabilities\n",
    "clf_dummy_pred = clf_dummy.predict_proba(X_test)\n",
    "\n",
    "# compute false positive rate, true positive rate and thresholds defining ROC curve\n",
    "# (note: these values define the points at which the ROC curve has a kink)\n",
    "fpr_dummy, tpr_dummy, thresholds_dummy = roc_curve(y_test, clf_dummy_pred[:,1], pos_label=1)\n",
    "print('false positive rates:', fpr_dummy)\n",
    "print('true positive rates: ', tpr_dummy)\n",
    "print('thresholds:', thresholds_dummy)\n",
    "\n",
    "# compute and show area under the ROC curve\n",
    "roc_auc_dummy = auc(fpr_dummy, tpr_dummy)\n",
    "print ('area under roc curve: ', roc_auc_dummy)\n",
    "\n",
    "# plot the ROC curve\n",
    "plt.plot(fpr_dummy, tpr_dummy, color='red',lw=2)\n",
    "plt.xlim([0.0, 1.0])\n",
    "plt.ylim([0.0, 1.05])\n",
    "plt.title('ROC curve for Dummy Classifier')\n",
    "plt.xlabel('False Positive Rate')\n",
    "plt.ylabel('True Positive Rate')\n",
    "plt.show()"
   ]
  },
  {
   "cell_type": "code",
   "execution_count": 83,
   "metadata": {
    "collapsed": false
   },
   "outputs": [
    {
     "data": {
      "text/plain": [
       "Pipeline(steps=[('MaxAbsScalar', MaxAbsScaler(copy=True)), ('knn_reg', KNeighborsRegressor(algorithm='brute', leaf_size=30, metric='minkowski',\n",
       "          metric_params=None, n_jobs=1, n_neighbors=24, p=2,\n",
       "          weights='uniform'))])"
      ]
     },
     "execution_count": 83,
     "metadata": {},
     "output_type": "execute_result"
    }
   ],
   "source": [
    "# define a pipeline with maxabs standardization preprocessing with Euclidean measure of distance\n",
    "estimators = []\n",
    "estimators.append(('MaxAbsScalar', preprocessing.MaxAbsScaler()))\n",
    "estimators.append(('knn_cls', neighbors.KNeighborsClassifier()))\n",
    "cls_knn_pipe = Pipeline(estimators)\n",
    "cls_knn_pipe.set_params(knn_cls__algorithm='brute')\n",
    "cls_knn_pipe.set_params(knn_cls__weights='distance')\n",
    "\n",
    "# create a grid search over n_neighbors values\n",
    "parameters = {\n",
    "        'knn_reg__n_neighbors' : np.arange(1,100)\n",
    "}\n",
    "estimator_knncls = GridSearchCV(cls_knn_pipe, parameters, cv=5)\n",
    "                  \n",
    "# evaluate the grid search and print best regressor\n",
    "estimator_knnreg.fit(X_train, y_train)\n",
    "estimator_knnreg.best_estimator_"
   ]
  },
  {
   "cell_type": "code",
   "execution_count": 84,
   "metadata": {
    "collapsed": false
   },
   "outputs": [
    {
     "data": {
      "text/plain": [
       "0.106"
      ]
     },
     "execution_count": 84,
     "metadata": {},
     "output_type": "execute_result"
    }
   ],
   "source": [
    "# fix the number of neighbors to the best value\n",
    "cls_knn_pipe.set_params(knn_cls__n_neighbors=38)\n",
    "\n",
    "# fit the model to the training set\n",
    "cls_knn_pipe.fit(X_train, y_train)\n",
    "\n",
    "# assess the performance on the test set using R^2 score\n",
    "cls_knn_pipe.score(X_test, y_test)"
   ]
  },
  {
   "cell_type": "code",
   "execution_count": 85,
   "metadata": {
    "collapsed": false
   },
   "outputs": [
    {
     "data": {
      "text/plain": [
       "{'svm_clf__C': 2.0}"
      ]
     },
     "execution_count": 85,
     "metadata": {},
     "output_type": "execute_result"
    }
   ],
   "source": [
    "# setup pipeline\n",
    "estimators = []\n",
    "estimators.append(('normalize', Normalizer()))\n",
    "estimators.append(('svm_clf', svm.SVC()))\n",
    "pipe = Pipeline(estimators)\n",
    "pipe.set_params(svm_clf__kernel='linear')\n",
    "\n",
    "# tuning requsted parameter\n",
    "tuned_parameters = [{'svm_clf__C': np.logspace(-5,15,11,base=2.0)}]\n",
    "clf = GridSearchCV(pipe, tuned_parameters, cv=5, scoring='accuracy')\n",
    "clf.fit(X_train,y_train)\n",
    "clf.best_params_"
   ]
  },
  {
   "cell_type": "code",
   "execution_count": 86,
   "metadata": {
    "collapsed": false
   },
   "outputs": [
    {
     "data": {
      "text/plain": [
       "{'mean_fit_time': array([ 17.68916602,  17.26037765,  14.51102138,  16.74139919,\n",
       "         16.73741055,  16.73710585,  16.75811768,  16.73433475,\n",
       "         16.75400391,  16.74625034,  16.92438874]),\n",
       " 'mean_score_time': array([ 2.58243618,  2.52217765,  2.42430105,  2.40927219,  2.41481242,\n",
       "         2.52036538,  2.41870079,  2.40264912,  2.4178627 ,  2.42385588,\n",
       "         2.41891742]),\n",
       " 'mean_test_score': array([ 0.0485 ,  0.2905 ,  0.59325,  0.63025,  0.6295 ,  0.62925,\n",
       "         0.62925,  0.62925,  0.62925,  0.62925,  0.62925]),\n",
       " 'mean_train_score': array([ 0.0485001 ,  0.35171669,  0.88393599,  0.99793696,  1.        ,\n",
       "         1.        ,  1.        ,  1.        ,  1.        ,  1.        ,  1.        ]),\n",
       " 'param_svm_clf__C': masked_array(data = [0.03125 0.125 0.5 2.0 8.0 32.0 128.0 512.0 2048.0 8192.0 32768.0],\n",
       "              mask = [False False False False False False False False False False False],\n",
       "        fill_value = ?),\n",
       " 'params': ({'svm_clf__C': 0.03125},\n",
       "  {'svm_clf__C': 0.125},\n",
       "  {'svm_clf__C': 0.5},\n",
       "  {'svm_clf__C': 2.0},\n",
       "  {'svm_clf__C': 8.0},\n",
       "  {'svm_clf__C': 32.0},\n",
       "  {'svm_clf__C': 128.0},\n",
       "  {'svm_clf__C': 512.0},\n",
       "  {'svm_clf__C': 2048.0},\n",
       "  {'svm_clf__C': 8192.0},\n",
       "  {'svm_clf__C': 32768.0}),\n",
       " 'rank_test_score': array([11, 10,  9,  1,  2,  3,  3,  3,  3,  3,  3]),\n",
       " 'split0_test_score': array([ 0.04808878,  0.28976572,  0.58199753,  0.62145499,  0.62392109,\n",
       "         0.62268804,  0.62268804,  0.62268804,  0.62268804,  0.62268804,\n",
       "         0.62268804]),\n",
       " 'split0_train_score': array([ 0.04860458,  0.37284415,  0.88523048,  0.99811853,  1.        ,\n",
       "         1.        ,  1.        ,  1.        ,  1.        ,  1.        ,  1.        ]),\n",
       " 'split1_test_score': array([ 0.0483871 ,  0.29032258,  0.58560794,  0.64019851,  0.64516129,\n",
       "         0.64516129,  0.64516129,  0.64516129,  0.64516129,  0.64516129,\n",
       "         0.64516129]),\n",
       " 'split1_train_score': array([ 0.04852849,  0.36568566,  0.88134001,  0.9974953 ,  1.        ,\n",
       "         1.        ,  1.        ,  1.        ,  1.        ,  1.        ,  1.        ]),\n",
       " 'split2_test_score': array([ 0.04881101,  0.28285357,  0.59073842,  0.63454318,  0.62953692,\n",
       "         0.62953692,  0.62953692,  0.62953692,  0.62953692,  0.62953692,\n",
       "         0.62953692]),\n",
       " 'split2_train_score': array([ 0.04842237,  0.33364574,  0.8819119 ,  0.99718838,  1.        ,\n",
       "         1.        ,  1.        ,  1.        ,  1.        ,  1.        ,  1.        ]),\n",
       " 'split3_test_score': array([ 0.04918033,  0.28751576,  0.60907945,  0.62421185,  0.61412358,\n",
       "         0.61412358,  0.61412358,  0.61412358,  0.61412358,  0.61412358,\n",
       "         0.61412358]),\n",
       " 'split3_train_score': array([ 0.04833177,  0.3414406 ,  0.88649829,  0.99812909,  1.        ,\n",
       "         1.        ,  1.        ,  1.        ,  1.        ,  1.        ,  1.        ]),\n",
       " 'split4_test_score': array([ 0.04804046,  0.30214918,  0.59924147,  0.63084703,  0.6346397 ,\n",
       "         0.6346397 ,  0.6346397 ,  0.6346397 ,  0.6346397 ,  0.6346397 ,\n",
       "         0.6346397 ]),\n",
       " 'split4_train_score': array([ 0.04861328,  0.34496728,  0.88469928,  0.99875351,  1.        ,\n",
       "         1.        ,  1.        ,  1.        ,  1.        ,  1.        ,  1.        ]),\n",
       " 'std_fit_time': array([ 0.18957235,  0.11107341,  0.06945999,  0.08983091,  0.10723312,\n",
       "         0.11591031,  0.14915827,  0.11743079,  0.08639969,  0.09484596,\n",
       "         0.28194284]),\n",
       " 'std_score_time': array([ 0.12189043,  0.02230856,  0.01921069,  0.02884023,  0.018022  ,\n",
       "         0.17033293,  0.02262463,  0.0224403 ,  0.01688108,  0.04576632,\n",
       "         0.01546359]),\n",
       " 'std_test_score': array([ 0.00043554,  0.00635575,  0.00977109,  0.00682689,  0.01038416,\n",
       "         0.01052929,  0.01052929,  0.01052929,  0.01052929,  0.01052929,\n",
       "         0.01052929]),\n",
       " 'std_train_score': array([ 0.00010854,  0.01496138,  0.00198291,  0.00054627,  0.        ,\n",
       "         0.        ,  0.        ,  0.        ,  0.        ,  0.        ,  0.        ])}"
      ]
     },
     "execution_count": 86,
     "metadata": {},
     "output_type": "execute_result"
    }
   ],
   "source": [
    "clf.cv_results_"
   ]
  },
  {
   "cell_type": "code",
   "execution_count": 16,
   "metadata": {
    "collapsed": true
   },
   "outputs": [],
   "source": [
    "# best C value using GridSearchCV\n",
    "best_C_SVC = 2"
   ]
  },
  {
   "cell_type": "code",
   "execution_count": 19,
   "metadata": {
    "collapsed": false
   },
   "outputs": [
    {
     "data": {
      "text/plain": [
       "0.75864583333333335"
      ]
     },
     "execution_count": 19,
     "metadata": {},
     "output_type": "execute_result"
    }
   ],
   "source": [
    "# assessing best performing SVC on test set\n",
    "from sklearn.metrics import accuracy_score\n",
    "\n",
    "# setup pipeline\n",
    "estimators = []\n",
    "estimators.append(('normalize', Normalizer()))\n",
    "estimators.append(('svm_clf', svm.SVC()))\n",
    "pipe = Pipeline(estimators)\n",
    "pipe.set_params(svm_clf__kernel='linear', svm_clf__C=best_C_SVC)\n",
    "\n",
    "pipe.fit(X_train,y_train)\n",
    "y_pred = pipe.predict(X_test)\n",
    "accuracy_score(y_test, y_pred)"
   ]
  },
  {
   "cell_type": "code",
   "execution_count": null,
   "metadata": {
    "collapsed": true
   },
   "outputs": [],
   "source": [
    "# setup pipeline\n",
    "estimators = []\n",
    "estimators.append(('normalize', Normalizer()))\n",
    "estimators.append(('svm_clf', svm.SVC()))\n",
    "pipe = Pipeline(estimators)\n",
    "pipe.set_params(svm_clf__kernel='rbf', svm_clf__C=best_C_SVC)\n",
    "\n",
    "pipe.fit(X_train,y_train)\n",
    "y_pred = pipe.predict(X_test)\n",
    "accuracy_score(y_test, y_pred)\n"
   ]
  },
  {
   "cell_type": "code",
   "execution_count": null,
   "metadata": {
    "collapsed": true
   },
   "outputs": [],
   "source": []
  }
 ],
 "metadata": {
  "anaconda-cloud": {},
  "kernelspec": {
   "display_name": "Python 3",
   "language": "python",
   "name": "python3"
  },
  "language_info": {
   "codemirror_mode": {
    "name": "ipython",
    "version": 3
   },
   "file_extension": ".py",
   "mimetype": "text/x-python",
   "name": "python",
   "nbconvert_exporter": "python",
   "pygments_lexer": "ipython3",
   "version": "3.6.0"
  }
 },
 "nbformat": 4,
 "nbformat_minor": 0
}
