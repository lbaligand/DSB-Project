{
 "cells": [
  {
   "cell_type": "markdown",
   "metadata": {},
   "source": [
    "# Project Baudet Baligand\n",
    "\n",
    "## Project Overview\n",
    "TODO:Intro, problem statement, metrics\n",
    "\n",
    "## Data Exploration"
   ]
  },
  {
   "cell_type": "code",
   "execution_count": 29,
   "metadata": {
    "collapsed": false
   },
   "outputs": [],
   "source": [
    "# Useful modules, make sure you can import them before proceeding further\n",
    "import matplotlib.pyplot as plt\n",
    "%matplotlib inline\n",
    "import numpy as np\n",
    "import pandas as pd\n",
    "import json\n",
    "from pandas.io.json import json_normalize\n",
    "\n",
    "# Random seed to make results reducible\n",
    "SEED = 1"
   ]
  },
  {
   "cell_type": "markdown",
   "metadata": {},
   "source": [
    "We need to extract the data, and convert the data given in \"json\" to a dataframe in order to perform our analysis"
   ]
  },
  {
   "cell_type": "code",
   "execution_count": 30,
   "metadata": {
    "collapsed": false
   },
   "outputs": [],
   "source": [
    "my_list = []\n",
    "with open('amazon_step1.json') as f:\n",
    "    for line in f:\n",
    "        my_list.append(json.loads(line))\n",
    "\n",
    "df = json_normalize(my_list)"
   ]
  },
  {
   "cell_type": "code",
   "execution_count": 3,
   "metadata": {
    "collapsed": false,
    "scrolled": true
   },
   "outputs": [
    {
     "data": {
      "text/html": [
       "<div>\n",
       "<table border=\"1\" class=\"dataframe\">\n",
       "  <thead>\n",
       "    <tr style=\"text-align: right;\">\n",
       "      <th></th>\n",
       "      <th>asin</th>\n",
       "      <th>category</th>\n",
       "      <th>helpful</th>\n",
       "      <th>overall</th>\n",
       "      <th>reviewText</th>\n",
       "      <th>reviewTime</th>\n",
       "      <th>reviewerID</th>\n",
       "      <th>reviewerName</th>\n",
       "      <th>summary</th>\n",
       "      <th>unixReviewTime</th>\n",
       "    </tr>\n",
       "  </thead>\n",
       "  <tbody>\n",
       "    <tr>\n",
       "      <th>0</th>\n",
       "      <td>B000J4HXUC</td>\n",
       "      <td>Sports_and_Outdoors</td>\n",
       "      <td>[1, 1]</td>\n",
       "      <td>5.0</td>\n",
       "      <td>It's a .50 Caliber Ammo Can. That largely sums...</td>\n",
       "      <td>01 5, 2014</td>\n",
       "      <td>A3QRW0UJPKIAX7</td>\n",
       "      <td>Grant Fritchey</td>\n",
       "      <td>Clean and Exactly as Advertised</td>\n",
       "      <td>1388880000</td>\n",
       "    </tr>\n",
       "  </tbody>\n",
       "</table>\n",
       "</div>"
      ],
      "text/plain": [
       "         asin             category helpful  overall  \\\n",
       "0  B000J4HXUC  Sports_and_Outdoors  [1, 1]      5.0   \n",
       "\n",
       "                                          reviewText  reviewTime  \\\n",
       "0  It's a .50 Caliber Ammo Can. That largely sums...  01 5, 2014   \n",
       "\n",
       "       reviewerID    reviewerName                          summary  \\\n",
       "0  A3QRW0UJPKIAX7  Grant Fritchey  Clean and Exactly as Advertised   \n",
       "\n",
       "   unixReviewTime  \n",
       "0      1388880000  "
      ]
     },
     "execution_count": 3,
     "metadata": {},
     "output_type": "execute_result"
    }
   ],
   "source": [
    "df.head(1)"
   ]
  },
  {
   "cell_type": "code",
   "execution_count": 5,
   "metadata": {
    "collapsed": false
   },
   "outputs": [
    {
     "name": "stdout",
     "output_type": "stream",
     "text": [
      "asin                0\n",
      "category            0\n",
      "helpful             0\n",
      "overall             0\n",
      "reviewText          0\n",
      "reviewTime          0\n",
      "reviewerID          0\n",
      "reviewerName      994\n",
      "summary             0\n",
      "unixReviewTime      0\n",
      "dtype: int64\n"
     ]
    }
   ],
   "source": [
    "#Check if we have any null values\n",
    "print (df.isnull().sum())"
   ]
  },
  {
   "cell_type": "code",
   "execution_count": 20,
   "metadata": {
    "collapsed": false
   },
   "outputs": [
    {
     "data": {
      "text/html": [
       "<div>\n",
       "<table border=\"1\" class=\"dataframe\">\n",
       "  <thead>\n",
       "    <tr style=\"text-align: right;\">\n",
       "      <th></th>\n",
       "      <th>overall</th>\n",
       "      <th>unixReviewTime</th>\n",
       "    </tr>\n",
       "  </thead>\n",
       "  <tbody>\n",
       "    <tr>\n",
       "      <th>count</th>\n",
       "      <td>96000.000000</td>\n",
       "      <td>9.600000e+04</td>\n",
       "    </tr>\n",
       "    <tr>\n",
       "      <th>mean</th>\n",
       "      <td>4.260271</td>\n",
       "      <td>1.333697e+09</td>\n",
       "    </tr>\n",
       "    <tr>\n",
       "      <th>std</th>\n",
       "      <td>1.103461</td>\n",
       "      <td>9.034763e+07</td>\n",
       "    </tr>\n",
       "    <tr>\n",
       "      <th>min</th>\n",
       "      <td>1.000000</td>\n",
       "      <td>8.827488e+08</td>\n",
       "    </tr>\n",
       "    <tr>\n",
       "      <th>25%</th>\n",
       "      <td>4.000000</td>\n",
       "      <td>1.323821e+09</td>\n",
       "    </tr>\n",
       "    <tr>\n",
       "      <th>50%</th>\n",
       "      <td>5.000000</td>\n",
       "      <td>1.365898e+09</td>\n",
       "    </tr>\n",
       "    <tr>\n",
       "      <th>75%</th>\n",
       "      <td>5.000000</td>\n",
       "      <td>1.388102e+09</td>\n",
       "    </tr>\n",
       "    <tr>\n",
       "      <th>max</th>\n",
       "      <td>5.000000</td>\n",
       "      <td>1.406074e+09</td>\n",
       "    </tr>\n",
       "  </tbody>\n",
       "</table>\n",
       "</div>"
      ],
      "text/plain": [
       "            overall  unixReviewTime\n",
       "count  96000.000000    9.600000e+04\n",
       "mean       4.260271    1.333697e+09\n",
       "std        1.103461    9.034763e+07\n",
       "min        1.000000    8.827488e+08\n",
       "25%        4.000000    1.323821e+09\n",
       "50%        5.000000    1.365898e+09\n",
       "75%        5.000000    1.388102e+09\n",
       "max        5.000000    1.406074e+09"
      ]
     },
     "execution_count": 20,
     "metadata": {},
     "output_type": "execute_result"
    }
   ],
   "source": [
    "df.describe()"
   ]
  },
  {
   "cell_type": "code",
   "execution_count": 7,
   "metadata": {
    "collapsed": false
   },
   "outputs": [
    {
     "data": {
      "text/plain": [
       "96000"
      ]
     },
     "execution_count": 7,
     "metadata": {},
     "output_type": "execute_result"
    },
    {
     "data": {
      "image/png": "[encoded data removed]",
      "text/plain": [
       "<matplotlib.figure.Figure at 0x10817cc50>"
      ]
     },
     "metadata": {},
     "output_type": "display_data"
    }
   ],
   "source": [
    "# histogram of categories\n",
    "fig, ax = plt.subplots()\n",
    "df['category'].value_counts().plot(ax=ax, kind='bar')\n",
    "df['category'].value_counts().sum()"
   ]
  },
  {
   "cell_type": "markdown",
   "metadata": {},
   "source": [
    "## Data Pre Processing"
   ]
  },
  {
   "cell_type": "code",
   "execution_count": 8,
   "metadata": {
    "collapsed": false
   },
   "outputs": [],
   "source": [
    "# adding summaryt to reviewText\n",
    "df['reviewText'] = df['summary'] + ' ' + df['reviewText']"
   ]
  },
  {
   "cell_type": "code",
   "execution_count": 31,
   "metadata": {
    "collapsed": false
   },
   "outputs": [
    {
     "name": "stdout",
     "output_type": "stream",
     "text": [
      "0                Sports_and_Outdoors\n",
      "1                              Books\n",
      "2           Grocery_and_Gourmet_Food\n",
      "3        Cell_Phones_and_Accessories\n",
      "4               Amazon_Instant_Video\n",
      "5                               Baby\n",
      "6         Tools_and_Home_Improvement\n",
      "7                      Digital_Music\n",
      "8                       Pet_Supplies\n",
      "9                      Movies_and_TV\n",
      "10                       Video_Games\n",
      "11                      Kindle_Store\n",
      "12               Sports_and_Outdoors\n",
      "13               Sports_and_Outdoors\n",
      "14       Cell_Phones_and_Accessories\n",
      "15                      Pet_Supplies\n",
      "16                      Pet_Supplies\n",
      "17                    Toys_and_Games\n",
      "18                  Home_and_Kitchen\n",
      "19                      Kindle_Store\n",
      "20                  Home_and_Kitchen\n",
      "21        Clothing_Shoes_and_Jewelry\n",
      "22                  Apps_for_Android\n",
      "23          Health_and_Personal_Care\n",
      "24                     CDs_and_Vinyl\n",
      "25                            Beauty\n",
      "26                            Beauty\n",
      "27               Musical_Instruments\n",
      "28                      Kindle_Store\n",
      "29                     Movies_and_TV\n",
      "                    ...             \n",
      "95970                  CDs_and_Vinyl\n",
      "95971                    Electronics\n",
      "95972            Sports_and_Outdoors\n",
      "95973                  CDs_and_Vinyl\n",
      "95974               Apps_for_Android\n",
      "95975     Clothing_Shoes_and_Jewelry\n",
      "95976                    Electronics\n",
      "95977                Office_Products\n",
      "95978                     Automotive\n",
      "95979                         Beauty\n",
      "95980            Sports_and_Outdoors\n",
      "95981                     Automotive\n",
      "95982               Apps_for_Android\n",
      "95983            Sports_and_Outdoors\n",
      "95984    Cell_Phones_and_Accessories\n",
      "95985                    Video_Games\n",
      "95986                     Automotive\n",
      "95987                    Electronics\n",
      "95988                  Digital_Music\n",
      "95989                   Pet_Supplies\n",
      "95990           Amazon_Instant_Video\n",
      "95991               Home_and_Kitchen\n",
      "95992                         Beauty\n",
      "95993       Health_and_Personal_Care\n",
      "95994                    Electronics\n",
      "95995                           Baby\n",
      "95996     Tools_and_Home_Improvement\n",
      "95997                         Beauty\n",
      "95998    Cell_Phones_and_Accessories\n",
      "95999                  Movies_and_TV\n",
      "Name: category, dtype: object\n"
     ]
    }
   ],
   "source": [
    "print(df['category'])"
   ]
  },
  {
   "cell_type": "code",
   "execution_count": null,
   "metadata": {
    "collapsed": true
   },
   "outputs": [],
   "source": []
  },
  {
   "cell_type": "code",
   "execution_count": 38,
   "metadata": {
    "collapsed": false
   },
   "outputs": [
    {
     "name": "stdout",
     "output_type": "stream",
     "text": [
      "{0: 'Amazon_Instant_Video', 1: 'Apps_for_Android', 2: 'Automotive', 3: 'Baby', 4: 'Beauty', 5: 'Books', 6: 'CDs_and_Vinyl', 7: 'Cell_Phones_and_Accessories', 8: 'Clothing_Shoes_and_Jewelry', 9: 'Digital_Music', 10: 'Electronics', 11: 'Grocery_and_Gourmet_Food', 12: 'Health_and_Personal_Care', 13: 'Home_and_Kitchen', 14: 'Kindle_Store', 15: 'Movies_and_TV', 16: 'Musical_Instruments', 17: 'Office_Products', 18: 'Patio_Lawn_and_Garden', 19: 'Pet_Supplies', 20: 'Sports_and_Outdoors', 21: 'Tools_and_Home_Improvement', 22: 'Toys_and_Games', 23: 'Video_Games'}\n",
      "0        20\n",
      "1         5\n",
      "2        11\n",
      "3         7\n",
      "4         0\n",
      "5         3\n",
      "6        21\n",
      "7         9\n",
      "8        19\n",
      "9        15\n",
      "10       23\n",
      "11       14\n",
      "12       20\n",
      "13       20\n",
      "14        7\n",
      "15       19\n",
      "16       19\n",
      "17       22\n",
      "18       13\n",
      "19       14\n",
      "20       13\n",
      "21        8\n",
      "22        1\n",
      "23       12\n",
      "24        6\n",
      "25        4\n",
      "26        4\n",
      "27       16\n",
      "28       14\n",
      "29       15\n",
      "         ..\n",
      "95970     6\n",
      "95971    10\n",
      "95972    20\n",
      "95973     6\n",
      "95974     1\n",
      "95975     8\n",
      "95976    10\n",
      "95977    17\n",
      "95978     2\n",
      "95979     4\n",
      "95980    20\n",
      "95981     2\n",
      "95982     1\n",
      "95983    20\n",
      "95984     7\n",
      "95985    23\n",
      "95986     2\n",
      "95987    10\n",
      "95988     9\n",
      "95989    19\n",
      "95990     0\n",
      "95991    13\n",
      "95992     4\n",
      "95993    12\n",
      "95994    10\n",
      "95995     3\n",
      "95996    21\n",
      "95997     4\n",
      "95998     7\n",
      "95999    15\n",
      "Name: category_encode, dtype: int8\n"
     ]
    }
   ],
   "source": [
    "df['category'] = df['category'].astype('category')\n",
    "\n",
    "mapper = dict( enumerate(df.category.cat.categories) )\n",
    "print(mapper)\n",
    "df['category_encode'] = df['category'].cat.codes\n",
    "print(df['category_encode'])\n"
   ]
  },
  {
   "cell_type": "code",
   "execution_count": 40,
   "metadata": {
    "collapsed": false
   },
   "outputs": [
    {
     "name": "stdout",
     "output_type": "stream",
     "text": [
      "         asin             category helpful  overall  \\\n",
      "0  B000J4HXUC  Sports_and_Outdoors  [1, 1]      5.0   \n",
      "\n",
      "                                          reviewText  reviewTime  \\\n",
      "0  It's a .50 Caliber Ammo Can. That largely sums...  01 5, 2014   \n",
      "\n",
      "       reviewerID    reviewerName                          summary  \\\n",
      "0  A3QRW0UJPKIAX7  Grant Fritchey  Clean and Exactly as Advertised   \n",
      "\n",
      "   unixReviewTime  category_encode  \n",
      "0      1388880000               20  \n"
     ]
    }
   ],
   "source": [
    "print(df.head(1))"
   ]
  },
  {
   "cell_type": "markdown",
   "metadata": {},
   "source": [
    "We need first to select the relevant features to perform the prediction.\n",
    "We then need to process the target"
   ]
  },
  {
   "cell_type": "code",
   "execution_count": 14,
   "metadata": {
    "collapsed": false
   },
   "outputs": [],
   "source": [
    "# adding summary to reviewText\n",
    "df['reviewText'] = df['summary'] + ' ' + df['reviewText']"
   ]
  },
  {
   "cell_type": "code",
   "execution_count": 41,
   "metadata": {
    "collapsed": false
   },
   "outputs": [],
   "source": [
    "# convert text to lowercase\n",
    "df.loc[:, 'reviewText'] = df['reviewText'].str.lower()"
   ]
  },
  {
   "cell_type": "code",
   "execution_count": 42,
   "metadata": {
    "collapsed": false
   },
   "outputs": [
    {
     "data": {
      "text/plain": [
       "<96000x743 sparse matrix of type '<class 'numpy.float64'>'\n",
       "\twith 2143232 stored elements in Compressed Sparse Row format>"
      ]
     },
     "execution_count": 42,
     "metadata": {},
     "output_type": "execute_result"
    }
   ],
   "source": [
    "#tokenize text with Tfidf\n",
    "from sklearn.feature_extraction.text import TfidfVectorizer\n",
    "from nltk.stem.snowball import SnowballStemmer\n",
    "\n",
    "#create a stemmer\n",
    "stemmer = SnowballStemmer(\"english\")\n",
    "\n",
    "\n",
    "#define our own tokenizing function that we will pass into the TFIDFVectorizer. We will also stem the words here.\n",
    "def tokens(x):\n",
    "    x = x.split()\n",
    "    stems = []\n",
    "    [stems.append(stemmer.stem(word)) for word in x]\n",
    "    return stems\n",
    "\n",
    "#define the vectorizer\n",
    "vectorizer = TfidfVectorizer(tokenizer = tokens, stop_words = 'english', ngram_range=(1, 1), min_df = 0.01)\n",
    "#fit the vectorizers to the data.\n",
    "features = vectorizer.fit_transform(df['reviewText'])\n",
    "features"
   ]
  },
  {
   "cell_type": "markdown",
   "metadata": {},
   "source": [
    "## Step 1"
   ]
  },
  {
   "cell_type": "code",
   "execution_count": 44,
   "metadata": {
    "collapsed": false
   },
   "outputs": [],
   "source": [
    "from sklearn.model_selection import train_test_split\n",
    "\n",
    "cat_coded = df['category_encode'].values.tolist()\n",
    "\n",
    "\n",
    "\n",
    "# Split the data in 80% training set and 20% test set\n",
    "X_train, X_test, y_train, y_test = train_test_split(features, cat_coded, test_size=0.2, random_state=100)\n",
    "\n"
   ]
  },
  {
   "cell_type": "code",
   "execution_count": null,
   "metadata": {
    "collapsed": true
   },
   "outputs": [],
   "source": [
    "# This code is inspired by the SVC official documentation\n",
    "\n",
    "import matplotlib.pyplot as plt\n",
    "from sklearn.svm import SVC\n",
    "from sklearn.model_selection import GridSearchCV\n",
    "\n",
    "\n",
    "C_range = np.logspace(-2, 10, 13)\n",
    "gamma_range = np.logspace(-9, 3, 13)\n",
    "param_grid = dict(gamma=gamma_range, C=C_range)\n",
    "cv = 5\n",
    "grid = GridSearchCV(SVC(), param_grid=param_grid, cv=cv)\n",
    "grid.fit(X_train.iloc[0:100,:], y_train.iloc[0:100])\n",
    "\n",
    "scores = [x[1] for x in grid.grid_scores_]\n",
    "scores = np.array(scores).reshape(len(C_range), len(gamma_range))\n",
    "\n",
    "for ind, i in enumerate(C_range):\n",
    "    plt.plot(gamma_range, scores[ind], label='C: ' + str(i))\n",
    "plt.legend()\n",
    "plt.xlabel('Gamma')\n",
    "plt.ylabel('Mean score')\n",
    "plt.show()\n",
    "\n",
    "print(\"The best parameters are %s with a score of %0.2f\"\n",
    "      % (grid.best_params_, grid.best_score_))"
   ]
  },
  {
   "cell_type": "code",
   "execution_count": null,
   "metadata": {
    "collapsed": true
   },
   "outputs": [],
   "source": []
  }
 ],
 "metadata": {
  "anaconda-cloud": {},
  "kernelspec": {
   "display_name": "Python 3",
   "language": "python",
   "name": "python3"
  }
 },
 "nbformat": 4,
 "nbformat_minor": 0
}
